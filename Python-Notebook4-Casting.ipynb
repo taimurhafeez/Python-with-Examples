{
 "cells": [
  {
   "cell_type": "markdown",
   "id": "11c1297f",
   "metadata": {},
   "source": [
    "# Data Type Casting in Python"
   ]
  },
  {
   "cell_type": "markdown",
   "id": "80fa01dc",
   "metadata": {},
   "source": [
    "### Casting means changing data type of the variable. Below examples demonstrate it"
   ]
  },
  {
   "cell_type": "markdown",
   "id": "8a1ad070",
   "metadata": {},
   "source": [
    "### It is done using constructor for that type"
   ]
  },
  {
   "cell_type": "markdown",
   "id": "3e3b2850",
   "metadata": {},
   "source": [
    "1. int()\n",
    "2. float ()\n",
    "3. str()"
   ]
  },
  {
   "cell_type": "code",
   "execution_count": 1,
   "id": "5542c513",
   "metadata": {},
   "outputs": [],
   "source": [
    "x = int(1)   # x will be 1\n",
    "y = int(2.8) # y will be 2\n",
    "z = int(\"3\") # z will be 3"
   ]
  },
  {
   "cell_type": "code",
   "execution_count": 3,
   "id": "454e464f",
   "metadata": {},
   "outputs": [
    {
     "name": "stdout",
     "output_type": "stream",
     "text": [
      "1\n",
      "2\n",
      "3\n"
     ]
    }
   ],
   "source": [
    "print(x)\n",
    "print(y)\n",
    "print(z)"
   ]
  },
  {
   "cell_type": "code",
   "execution_count": 4,
   "id": "871164ae",
   "metadata": {},
   "outputs": [],
   "source": [
    "x = float(1)     # x will be 1.0\n",
    "y = float(2.8)   # y will be 2.8\n",
    "z = float(\"3\")   # z will be 3.0\n",
    "w = float(\"4.2\")"
   ]
  },
  {
   "cell_type": "code",
   "execution_count": 5,
   "id": "52812335",
   "metadata": {},
   "outputs": [
    {
     "name": "stdout",
     "output_type": "stream",
     "text": [
      "1.0\n",
      "2.8\n",
      "3.0\n",
      "4.2\n"
     ]
    }
   ],
   "source": [
    "print(x)\n",
    "print(y)\n",
    "print(z)\n",
    "print(w)"
   ]
  },
  {
   "cell_type": "code",
   "execution_count": 6,
   "id": "7515a46d",
   "metadata": {},
   "outputs": [],
   "source": [
    "x = str(\"s1\") # x will be 's1'\n",
    "y = str(2)    # y will be '2'\n",
    "z = str(3.0)  # z will be '3.0'"
   ]
  },
  {
   "cell_type": "code",
   "execution_count": 7,
   "id": "67710382",
   "metadata": {},
   "outputs": [
    {
     "name": "stdout",
     "output_type": "stream",
     "text": [
      "s1\n",
      "2\n",
      "3.0\n"
     ]
    }
   ],
   "source": [
    "print(x)\n",
    "print(y)\n",
    "print(z)"
   ]
  },
  {
   "cell_type": "markdown",
   "id": "a95e2031",
   "metadata": {},
   "source": [
    "### What is not allowed: "
   ]
  },
  {
   "cell_type": "code",
   "execution_count": 9,
   "id": "3d597faf",
   "metadata": {},
   "outputs": [
    {
     "ename": "ValueError",
     "evalue": "invalid literal for int() with base 10: 's'",
     "output_type": "error",
     "traceback": [
      "\u001b[0;31m---------------------------------------------------------------------------\u001b[0m",
      "\u001b[0;31mValueError\u001b[0m                                Traceback (most recent call last)",
      "Cell \u001b[0;32mIn[9], line 1\u001b[0m\n\u001b[0;32m----> 1\u001b[0m p \u001b[38;5;241m=\u001b[39m \u001b[38;5;28;43mint\u001b[39;49m\u001b[43m(\u001b[49m\u001b[38;5;124;43m\"\u001b[39;49m\u001b[38;5;124;43ms\u001b[39;49m\u001b[38;5;124;43m\"\u001b[39;49m\u001b[43m)\u001b[49m\n",
      "\u001b[0;31mValueError\u001b[0m: invalid literal for int() with base 10: 's'"
     ]
    }
   ],
   "source": [
    "p = int(\"s\")"
   ]
  },
  {
   "cell_type": "markdown",
   "id": "aa13b168",
   "metadata": {},
   "source": [
    "this is because string in not convertable to integer"
   ]
  },
  {
   "cell_type": "code",
   "execution_count": null,
   "id": "b6047ff5",
   "metadata": {},
   "outputs": [],
   "source": []
  }
 ],
 "metadata": {
  "kernelspec": {
   "display_name": "Python 3 (ipykernel)",
   "language": "python",
   "name": "python3"
  },
  "language_info": {
   "codemirror_mode": {
    "name": "ipython",
    "version": 3
   },
   "file_extension": ".py",
   "mimetype": "text/x-python",
   "name": "python",
   "nbconvert_exporter": "python",
   "pygments_lexer": "ipython3",
   "version": "3.10.9"
  }
 },
 "nbformat": 4,
 "nbformat_minor": 5
}
