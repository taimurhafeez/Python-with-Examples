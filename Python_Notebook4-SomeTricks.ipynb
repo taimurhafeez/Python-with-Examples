{
 "cells": [
  {
   "cell_type": "markdown",
   "metadata": {},
   "source": [
    "# Thirty Python Language Tricks"
   ]
  },
  {
   "cell_type": "markdown",
   "metadata": {},
   "source": [
    "## 1. Slicing"
   ]
  },
  {
   "cell_type": "markdown",
   "metadata": {},
   "source": [
    "### sequence[start:stop:step].\n",
    "\"start\" defaults to 0 \n",
    "\"stop\" defaults to the length of the sequence\n",
    "\"step\" defaults to 1 if they are not specified. "
   ]
  },
  {
   "cell_type": "code",
   "execution_count": 2,
   "metadata": {},
   "outputs": [
    {
     "name": "stdout",
     "output_type": "stream",
     "text": [
      "!lufituaeb si dnalerI\n"
     ]
    }
   ],
   "source": [
    "a = \"Ireland is beautiful!\"\n",
    "print(a[::-1])"
   ]
  },
  {
   "cell_type": "markdown",
   "metadata": {},
   "source": [
    "## 2. Simultaneous Assignment"
   ]
  },
  {
   "cell_type": "code",
   "execution_count": 3,
   "metadata": {},
   "outputs": [],
   "source": [
    "a = 10\n",
    "b = 5"
   ]
  },
  {
   "cell_type": "code",
   "execution_count": 4,
   "metadata": {},
   "outputs": [
    {
     "name": "stdout",
     "output_type": "stream",
     "text": [
      "Second: (5, 12)\n"
     ]
    }
   ],
   "source": [
    "\n",
    "a, b = b, a + 2\n",
    "print(f\"Second: {a, b}\")\n"
   ]
  },
  {
   "cell_type": "code",
   "execution_count": 5,
   "metadata": {},
   "outputs": [
    {
     "name": "stdout",
     "output_type": "stream",
     "text": [
      "1\n",
      "2\n",
      "3\n"
     ]
    }
   ],
   "source": [
    "d, e, f = [1, 2, 3]\n",
    "print(d)\n",
    "print(e)\n",
    "print(f)"
   ]
  },
  {
   "cell_type": "markdown",
   "metadata": {},
   "source": [
    "### 2.1 Packing"
   ]
  },
  {
   "cell_type": "code",
   "execution_count": 8,
   "metadata": {},
   "outputs": [
    {
     "name": "stdout",
     "output_type": "stream",
     "text": [
      "1 [2, 3]\n"
     ]
    }
   ],
   "source": [
    "a, *b = 1, 2, 3\n",
    "print(a, b)"
   ]
  },
  {
   "cell_type": "markdown",
   "metadata": {},
   "source": [
    "## 3. List vs Tuples Size"
   ]
  },
  {
   "cell_type": "code",
   "execution_count": 11,
   "metadata": {},
   "outputs": [
    {
     "name": "stdout",
     "output_type": "stream",
     "text": [
      "List size: 96 bytes\n",
      "Tuple size: 80 bytes\n"
     ]
    }
   ],
   "source": [
    "import sys\n",
    "\n",
    "a = [10, 20, 30, 40, 50]\n",
    "b = (10, 20, 30, 40, 50)\n",
    "\n",
    "print(f\"List size: {sys.getsizeof(a)} bytes\")\n",
    "print(f\"Tuple size: {sys.getsizeof(b)} bytes\")"
   ]
  },
  {
   "cell_type": "markdown",
   "metadata": {},
   "source": [
    "## 4. Aliasing"
   ]
  },
  {
   "cell_type": "code",
   "execution_count": 17,
   "metadata": {},
   "outputs": [
    {
     "name": "stdout",
     "output_type": "stream",
     "text": [
      "2738390435008\n",
      "2738390435008\n",
      "[1, 2, 3, 4, 7]\n"
     ]
    }
   ],
   "source": [
    "a = [1, 2, 3, 4 ,5]\n",
    "b = a\n",
    "\n",
    "# Changing the 4th index in b\n",
    "b[4] = 7\n",
    "\n",
    "print(id(a))\n",
    "print(id(b))\n",
    "print(a) # Remember we did not explicitly make changes to a. This is because When we assign one identifier to \n",
    "#another identifier, we end up with two identifiers that reference the same object.\n",
    "#This is a concept known as aliasing"
   ]
  },
  {
   "cell_type": "markdown",
   "metadata": {},
   "source": [
    "Work Around Aliasing: clone an object into new name with using copy method or slicing "
   ]
  },
  {
   "cell_type": "code",
   "execution_count": 19,
   "metadata": {},
   "outputs": [
    {
     "name": "stdout",
     "output_type": "stream",
     "text": [
      "2738390435008\n",
      "2738390501824\n"
     ]
    }
   ],
   "source": [
    "b = a[:] \n",
    "print(id(a))\n",
    "print(id(b))"
   ]
  },
  {
   "cell_type": "markdown",
   "metadata": {},
   "source": [
    "## 5. F-Strings"
   ]
  },
  {
   "cell_type": "code",
   "execution_count": 20,
   "metadata": {},
   "outputs": [
    {
     "name": "stdout",
     "output_type": "stream",
     "text": [
      "Hi, I'm Galvin and I'm 37 years old!\n"
     ]
    }
   ],
   "source": [
    "first_name = \"Galvin\"\n",
    "age = 37\n",
    "\n",
    "print(f\"Hi, I'm {first_name} and I'm {age} years old!\")"
   ]
  },
  {
   "cell_type": "markdown",
   "metadata": {},
   "source": [
    "### 5.1 Dealing and formating with numbers "
   ]
  },
  {
   "cell_type": "code",
   "execution_count": 21,
   "metadata": {},
   "outputs": [
    {
     "name": "stdout",
     "output_type": "stream",
     "text": [
      "x = 10, y = 20\n"
     ]
    }
   ],
   "source": [
    "x = 10\n",
    "y = 20\n",
    "print(f\"{x = }, {y = }\")"
   ]
  },
  {
   "cell_type": "markdown",
   "metadata": {},
   "source": [
    "## 6. Print function with \"end\""
   ]
  },
  {
   "cell_type": "code",
   "execution_count": 32,
   "metadata": {},
   "outputs": [
    {
     "name": "stdout",
     "output_type": "stream",
     "text": [
      "Beijing   London   Belfast   Amsterdam   Krakow   \n",
      "['Beijing', 'London', 'Belfast', 'Amsterdam', 'Krakow']\n"
     ]
    }
   ],
   "source": [
    "a = [\"Beijing\", \"London\",\"Belfast\", \"Amsterdam\", \"Krakow\"]\n",
    "for language in a:\n",
    "    print(language, end=\"   \")\n",
    "print(\"\")\n",
    "print(a)"
   ]
  },
  {
   "cell_type": "code",
   "execution_count": null,
   "metadata": {},
   "outputs": [],
   "source": []
  }
 ],
 "metadata": {
  "kernelspec": {
   "display_name": "Python 3",
   "language": "python",
   "name": "python3"
  },
  "language_info": {
   "codemirror_mode": {
    "name": "ipython",
    "version": 3
   },
   "file_extension": ".py",
   "mimetype": "text/x-python",
   "name": "python",
   "nbconvert_exporter": "python",
   "pygments_lexer": "ipython3",
   "version": "3.8.5"
  }
 },
 "nbformat": 4,
 "nbformat_minor": 4
}
