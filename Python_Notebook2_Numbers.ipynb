{
 "cells": [
  {
   "cell_type": "markdown",
   "id": "cb782f22",
   "metadata": {},
   "source": [
    "# Initializing and Converting Numbers Data Types in Python"
   ]
  },
  {
   "cell_type": "markdown",
   "id": "dd759a35",
   "metadata": {},
   "source": [
    "## Initalizing"
   ]
  },
  {
   "cell_type": "code",
   "execution_count": 9,
   "id": "9376a7a4",
   "metadata": {},
   "outputs": [],
   "source": [
    "x = 1    # int\n",
    "y = 2.8  # float\n",
    "z = 1j   # complex"
   ]
  },
  {
   "cell_type": "code",
   "execution_count": 10,
   "id": "b5b2c93a",
   "metadata": {},
   "outputs": [
    {
     "name": "stdout",
     "output_type": "stream",
     "text": [
      "1 2.8 1j\n"
     ]
    }
   ],
   "source": [
    "print(x, y, z)"
   ]
  },
  {
   "cell_type": "markdown",
   "id": "26d0997e",
   "metadata": {},
   "source": [
    "## Converting datatypes"
   ]
  },
  {
   "cell_type": "code",
   "execution_count": 11,
   "id": "bb3916a8",
   "metadata": {},
   "outputs": [
    {
     "name": "stdout",
     "output_type": "stream",
     "text": [
      "1.0  and its type is  <class 'float'>\n",
      "2  and its type is  <class 'int'>\n",
      "(1+0j)  and its type is <class 'complex'>\n"
     ]
    }
   ],
   "source": [
    "#convert from int to float:\n",
    "x = float(1)\n",
    "\n",
    "#convert from float to int:\n",
    "y = int(2.8)\n",
    "\n",
    "#convert from int to complex:\n",
    "z = complex(1)\n",
    "\n",
    "print(x, \" and its type is \", type(x) )\n",
    "print(y, \" and its type is \", type(y) )\n",
    "print(z, \" and its type is\", type(z))\n"
   ]
  },
  {
   "cell_type": "code",
   "execution_count": null,
   "id": "681bf3da",
   "metadata": {},
   "outputs": [],
   "source": []
  }
 ],
 "metadata": {
  "kernelspec": {
   "display_name": "Python 3 (ipykernel)",
   "language": "python",
   "name": "python3"
  },
  "language_info": {
   "codemirror_mode": {
    "name": "ipython",
    "version": 3
   },
   "file_extension": ".py",
   "mimetype": "text/x-python",
   "name": "python",
   "nbconvert_exporter": "python",
   "pygments_lexer": "ipython3",
   "version": "3.10.9"
  }
 },
 "nbformat": 4,
 "nbformat_minor": 5
}
