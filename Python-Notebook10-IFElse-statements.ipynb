{
 "cells": [
  {
   "cell_type": "markdown",
   "id": "c65ff8e9",
   "metadata": {},
   "source": [
    "# Conditionals IF and Else in Python with examples"
   ]
  },
  {
   "cell_type": "markdown",
   "id": "bfad558d",
   "metadata": {},
   "source": [
    "## 1. Initialization"
   ]
  },
  {
   "cell_type": "markdown",
   "id": "7ba76fa6",
   "metadata": {},
   "source": [
    "### 1.1 Simple <font color=red>if </font>"
   ]
  },
  {
   "cell_type": "code",
   "execution_count": 3,
   "id": "ed0b40d0",
   "metadata": {},
   "outputs": [
    {
     "name": "stdout",
     "output_type": "stream",
     "text": [
      "True\n"
     ]
    }
   ],
   "source": [
    "a=10\n",
    "b=20\n",
    "if a <b: \n",
    "    print(\"True\")\n"
   ]
  },
  {
   "cell_type": "markdown",
   "id": "e135f3f6",
   "metadata": {},
   "source": [
    "`Notice the indentation in the print line after colon. It is mandatory in Python else it will raise an error, for example below example`"
   ]
  },
  {
   "cell_type": "code",
   "execution_count": 4,
   "id": "e4bebf6d",
   "metadata": {},
   "outputs": [
    {
     "ename": "IndentationError",
     "evalue": "expected an indented block after 'if' statement on line 3 (3708733957.py, line 4)",
     "output_type": "error",
     "traceback": [
      "\u001b[0;36m  Cell \u001b[0;32mIn[4], line 4\u001b[0;36m\u001b[0m\n\u001b[0;31m    print(\"True\")\u001b[0m\n\u001b[0m    ^\u001b[0m\n\u001b[0;31mIndentationError\u001b[0m\u001b[0;31m:\u001b[0m expected an indented block after 'if' statement on line 3\n"
     ]
    }
   ],
   "source": [
    "a=10\n",
    "b=20\n",
    "if a <b: \n",
    "print(\"True\")\n"
   ]
  },
  {
   "cell_type": "markdown",
   "id": "d7df05dc",
   "metadata": {},
   "source": [
    "## 1.2 <font color=red>if </font> with <font color=red>else </font>"
   ]
  },
  {
   "cell_type": "code",
   "execution_count": 5,
   "id": "c7c1cbd6",
   "metadata": {},
   "outputs": [
    {
     "name": "stdout",
     "output_type": "stream",
     "text": [
      "False\n"
     ]
    }
   ],
   "source": [
    "a=10\n",
    "b=20\n",
    "c=30\n",
    "if b<a: \n",
    "    print(\"True\")\n",
    "else:\n",
    "    print(\"False\")"
   ]
  },
  {
   "cell_type": "markdown",
   "id": "a946c219",
   "metadata": {},
   "source": [
    "## 2. <font color=red>elif </font> in Python"
   ]
  },
  {
   "cell_type": "markdown",
   "id": "5fc20e56",
   "metadata": {},
   "source": [
    "`It is used when there are different conditions to be checked seperately`"
   ]
  },
  {
   "cell_type": "code",
   "execution_count": 6,
   "id": "558b9f27",
   "metadata": {},
   "outputs": [
    {
     "name": "stdout",
     "output_type": "stream",
     "text": [
      "c is smaller than both a and b\n"
     ]
    }
   ],
   "source": [
    "a=10\n",
    "b=20\n",
    "c=30\n",
    "if c<a: \n",
    "    print(\"c is smaller than a\")\n",
    "elif c<b:\n",
    "    print(\"c is smaller than b\")\n",
    "else:\n",
    "    print(\"c is smaller than both a and b\")"
   ]
  },
  {
   "cell_type": "markdown",
   "id": "c4d71f1d",
   "metadata": {},
   "source": [
    "#### Notice that <font color=BlueViolet>else </font> got executed because conditions in both <font color=BlueViolet>if </font>and <font color=BlueViolet>elif </font> were not executed."
   ]
  },
  {
   "cell_type": "markdown",
   "id": "7141c7a2",
   "metadata": {},
   "source": [
    "## 3. Shorter version of <font color=red>if </font>"
   ]
  },
  {
   "cell_type": "code",
   "execution_count": 7,
   "id": "d6c9bf16",
   "metadata": {},
   "outputs": [
    {
     "name": "stdout",
     "output_type": "stream",
     "text": [
      "a is greater than b\n"
     ]
    }
   ],
   "source": [
    "a=20\n",
    "b=10\n",
    "if a > b: print(\"a is greater than b\")"
   ]
  },
  {
   "cell_type": "markdown",
   "id": "398d8765",
   "metadata": {},
   "source": [
    "## 4. Shorter version of <font color=red>if </font> and <font color=red>else </font>"
   ]
  },
  {
   "cell_type": "code",
   "execution_count": 8,
   "id": "05637f91",
   "metadata": {},
   "outputs": [
    {
     "name": "stdout",
     "output_type": "stream",
     "text": [
      "b is smaller\n"
     ]
    }
   ],
   "source": [
    "a=20\n",
    "b=10\n",
    "print(\"b is smaller\") if b<a else print(\"a is smaller\")"
   ]
  },
  {
   "cell_type": "markdown",
   "id": "4b062dfb",
   "metadata": {},
   "source": [
    "## 5. Using logical operators to combine condiontiol statements"
   ]
  },
  {
   "cell_type": "markdown",
   "id": "184d743e",
   "metadata": {},
   "source": [
    "### 5.1 <font color=red>and </font>"
   ]
  },
  {
   "cell_type": "code",
   "execution_count": 9,
   "id": "1e05daeb",
   "metadata": {},
   "outputs": [
    {
     "name": "stdout",
     "output_type": "stream",
     "text": [
      "a is largest among a,b, and c\n"
     ]
    }
   ],
   "source": [
    "a=100\n",
    "b=50\n",
    "c=25\n",
    "if a>b and a>c:\n",
    "    print(\"a is largest among a,b, and c\")"
   ]
  },
  {
   "cell_type": "markdown",
   "id": "fdf1f4ed",
   "metadata": {},
   "source": [
    "`both conditions needs to be true in this case`"
   ]
  },
  {
   "cell_type": "markdown",
   "id": "850b2e87",
   "metadata": {},
   "source": [
    "### 5.2 <font color=red>or </font>"
   ]
  },
  {
   "cell_type": "code",
   "execution_count": 11,
   "id": "c7bf0981",
   "metadata": {},
   "outputs": [
    {
     "name": "stdout",
     "output_type": "stream",
     "text": [
      "b is either greater than a or greater than c \n"
     ]
    }
   ],
   "source": [
    "a=25\n",
    "b=50\n",
    "c=100\n",
    "if b>a or b>c:\n",
    "    print(\"b is either greater than a or greater than c \")"
   ]
  },
  {
   "cell_type": "markdown",
   "id": "d4e216d0",
   "metadata": {},
   "source": [
    "### 6 Nested <font color=red>ifs </font>"
   ]
  },
  {
   "cell_type": "code",
   "execution_count": 15,
   "id": "25b87a9c",
   "metadata": {},
   "outputs": [
    {
     "name": "stdout",
     "output_type": "stream",
     "text": [
      "a greater than 1\n",
      "a greater than 2\n"
     ]
    }
   ],
   "source": [
    "a=3\n",
    "if a>1:\n",
    "    print(\"a is greater than 1\")\n",
    "    if a>2:\n",
    "          print(\"a is greater than 2\")\n",
    "    "
   ]
  },
  {
   "cell_type": "markdown",
   "id": "de87c424",
   "metadata": {},
   "source": [
    "### 7 Empty<font color=red> if </font> statement "
   ]
  },
  {
   "cell_type": "markdown",
   "id": "3bc1ddc1",
   "metadata": {},
   "source": [
    "<font color=red>Problem: below will generate an error because there is nothing to do when if condition is true </font>"
   ]
  },
  {
   "cell_type": "code",
   "execution_count": 16,
   "id": "a1b24a28",
   "metadata": {},
   "outputs": [
    {
     "ename": "SyntaxError",
     "evalue": "incomplete input (3059489045.py, line 3)",
     "output_type": "error",
     "traceback": [
      "\u001b[0;36m  Cell \u001b[0;32mIn[16], line 3\u001b[0;36m\u001b[0m\n\u001b[0;31m    if a<b:\u001b[0m\n\u001b[0m           ^\u001b[0m\n\u001b[0;31mSyntaxError\u001b[0m\u001b[0;31m:\u001b[0m incomplete input\n"
     ]
    }
   ],
   "source": [
    "a=1\n",
    "b=2\n",
    "if a<b:"
   ]
  },
  {
   "cell_type": "markdown",
   "id": "2c9960e8",
   "metadata": {},
   "source": [
    "### <font color=green>Solution: </font> using <font color=red> pass </font> statement"
   ]
  },
  {
   "cell_type": "code",
   "execution_count": 17,
   "id": "f080c9c1",
   "metadata": {},
   "outputs": [],
   "source": [
    "a=1\n",
    "b=2\n",
    "if a<b:\n",
    "    pass"
   ]
  },
  {
   "cell_type": "markdown",
   "id": "99f01788",
   "metadata": {},
   "source": []
  },
  {
   "cell_type": "markdown",
   "id": "e5d953c5",
   "metadata": {},
   "source": []
  },
  {
   "cell_type": "markdown",
   "id": "8cd327fe",
   "metadata": {},
   "source": []
  }
 ],
 "metadata": {
  "kernelspec": {
   "display_name": "Python 3 (ipykernel)",
   "language": "python",
   "name": "python3"
  },
  "language_info": {
   "codemirror_mode": {
    "name": "ipython",
    "version": 3
   },
   "file_extension": ".py",
   "mimetype": "text/x-python",
   "name": "python",
   "nbconvert_exporter": "python",
   "pygments_lexer": "ipython3",
   "version": "3.10.9"
  }
 },
 "nbformat": 4,
 "nbformat_minor": 5
}
