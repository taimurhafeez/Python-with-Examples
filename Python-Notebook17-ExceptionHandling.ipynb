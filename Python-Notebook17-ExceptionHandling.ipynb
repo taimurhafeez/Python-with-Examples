{
 "cells": [
  {
   "cell_type": "markdown",
   "id": "62a98697",
   "metadata": {},
   "source": [
    "# Exception Handling"
   ]
  },
  {
   "cell_type": "markdown",
   "id": "f591a330",
   "metadata": {},
   "source": [
    "## 1.1 Difference between Exception and Sytax Error"
   ]
  },
  {
   "cell_type": "markdown",
   "id": "2a10b0bc",
   "metadata": {},
   "source": [
    "### - <font color=Purple> Syntax Error </font>: When syntax is not right and program could not be interpreted"
   ]
  },
  {
   "cell_type": "markdown",
   "id": "05ddb392",
   "metadata": {},
   "source": [
    "### - <font color=Purple> Exception Error </font>: When syntax is right but some logical error changes the normal flow of the program"
   ]
  },
  {
   "cell_type": "markdown",
   "id": "c48e7357",
   "metadata": {},
   "source": []
  },
  {
   "cell_type": "markdown",
   "id": "5844fa51",
   "metadata": {},
   "source": [
    "## 2. Syntax Error: Example 1: <font color=red> Indention Error </font>"
   ]
  },
  {
   "cell_type": "code",
   "execution_count": 1,
   "id": "c5b6b922",
   "metadata": {},
   "outputs": [
    {
     "ename": "IndentationError",
     "evalue": "expected an indented block after 'if' statement on line 2 (1549631820.py, line 3)",
     "output_type": "error",
     "traceback": [
      "\u001b[0;36m  Cell \u001b[0;32mIn[1], line 3\u001b[0;36m\u001b[0m\n\u001b[0;31m    print()\u001b[0m\n\u001b[0m    ^\u001b[0m\n\u001b[0;31mIndentationError\u001b[0m\u001b[0;31m:\u001b[0m expected an indented block after 'if' statement on line 2\n"
     ]
    }
   ],
   "source": [
    "var=123\n",
    "if(var==123):\n",
    "print()"
   ]
  },
  {
   "cell_type": "markdown",
   "id": "5113566a",
   "metadata": {},
   "source": [
    "## 3. Exceptional Handling: Example 1: Division by 0"
   ]
  },
  {
   "cell_type": "markdown",
   "id": "c840630b",
   "metadata": {},
   "source": [
    "a=100\n",
    "b=0\n",
    "a"
   ]
  },
  {
   "cell_type": "markdown",
   "id": "3bf99a6c",
   "metadata": {},
   "source": []
  },
  {
   "cell_type": "markdown",
   "id": "6d66a502",
   "metadata": {},
   "source": []
  },
  {
   "cell_type": "markdown",
   "id": "c4413ea4",
   "metadata": {},
   "source": []
  },
  {
   "cell_type": "markdown",
   "id": "3c0bbb31",
   "metadata": {},
   "source": []
  },
  {
   "cell_type": "markdown",
   "id": "5e42c06d",
   "metadata": {},
   "source": []
  }
 ],
 "metadata": {
  "kernelspec": {
   "display_name": "Python 3 (ipykernel)",
   "language": "python",
   "name": "python3"
  },
  "language_info": {
   "codemirror_mode": {
    "name": "ipython",
    "version": 3
   },
   "file_extension": ".py",
   "mimetype": "text/x-python",
   "name": "python",
   "nbconvert_exporter": "python",
   "pygments_lexer": "ipython3",
   "version": "3.10.9"
  }
 },
 "nbformat": 4,
 "nbformat_minor": 5
}
