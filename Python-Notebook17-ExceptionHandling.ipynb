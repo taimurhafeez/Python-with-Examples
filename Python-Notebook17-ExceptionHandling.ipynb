{
 "cells": [
  {
   "cell_type": "markdown",
   "id": "a35c4ed3",
   "metadata": {},
   "source": [
    "# Exception Handling"
   ]
  },
  {
   "cell_type": "markdown",
   "id": "e89c0fa1",
   "metadata": {},
   "source": [
    "## Difference between Exception and Sytax Error"
   ]
  },
  {
   "cell_type": "markdown",
   "id": "c5503312",
   "metadata": {},
   "source": [
    "### -<font color=Purple> Syntax Error </font>: When syntax is not right and program could not be interpreted"
   ]
  },
  {
   "cell_type": "markdown",
   "id": "eecb5b5d",
   "metadata": {},
   "source": [
    "### - <font color=Purple> Exception Error </font>: When syntax is right but some logical error changes the normal flow of the program"
   ]
  },
  {
   "cell_type": "markdown",
   "id": "2a2a4818",
   "metadata": {},
   "source": []
  },
  {
   "cell_type": "markdown",
   "id": "fb761ea0",
   "metadata": {},
   "source": [
    "## 1. Syntax Error: Example 1: <font color=red> Indention Error </font>"
   ]
  },
  {
   "cell_type": "code",
   "execution_count": 1,
   "id": "fe0978ad",
   "metadata": {},
   "outputs": [
    {
     "ename": "IndentationError",
     "evalue": "expected an indented block after 'if' statement on line 2 (1549631820.py, line 3)",
     "output_type": "error",
     "traceback": [
      "\u001b[0;36m  Cell \u001b[0;32mIn[1], line 3\u001b[0;36m\u001b[0m\n\u001b[0;31m    print()\u001b[0m\n\u001b[0m    ^\u001b[0m\n\u001b[0;31mIndentationError\u001b[0m\u001b[0;31m:\u001b[0m expected an indented block after 'if' statement on line 2\n"
     ]
    }
   ],
   "source": [
    "var=123\n",
    "if(var==123):\n",
    "print()"
   ]
  },
  {
   "cell_type": "markdown",
   "id": "36f18460",
   "metadata": {},
   "source": [
    "\n",
    "\n",
    "<table style=\"width:100% , margin-left:100px\">\n",
    "  <tr>\n",
    "    <th><font  color=Black size=1.5px>Serial# </font></th>\n",
    "      <th> <font  color=red size=1.5px>Actual Error⚠️ </font></th>\n",
    "    <th><font  color=Black size=1.5px>Reason/Description </font> </th>\n",
    "  </tr>\n",
    "    \n",
    "  <tr>\n",
    "    <td>1</td>    <td>ZeroDivisionError</td>      <td>When a number is divided by a Zero</td>\n",
    "  </tr>\n",
    "    \n",
    "  <tr>\n",
    "    <td>2</td>    <td>ImportError</td>      <td>When a module could not be imported successfully</td>\n",
    "\n",
    "  </tr>\n",
    "    \n",
    "  <tr>\n",
    "    <td>3</td>    <td>IOError</td>     <td>When writing or reading a file fails</td>\n",
    "  </tr> \n",
    "    \n",
    "  <tr>\n",
    "    <td>4</td>    <td>AttributeError</td> <td>When a particular attribute is not found for an object</td>\n",
    "  </tr>  \n",
    "    \n",
    "  <tr>\n",
    "    <td>5</td>    <td>ValueError</td>     <td>Invalid input to a function</td>\n",
    "  </tr>\n",
    "    \n",
    "  <tr>\n",
    "    <td>6</td>    <td>KeyError</td> <td>When passed key is not found in the dictionary</td>\n",
    "  </tr>\n",
    "    \n",
    "  <tr>\n",
    "    <td>7</td>    <td>IndexError:</td> <td>When accessed index is not in the range of data structure:</td>\n",
    "  </tr>\n",
    "    \n",
    "  <tr>\n",
    "    <td>8</td>    <td>NameError</td>  <td>When either a variable or function is not available in the scope</td>\n",
    "  </tr>\n",
    "     \n",
    "  <tr>\n",
    "    <td>9</td>    <td>TypeError</td>   <td>When applying function/operation on the unsupported data type</td>\n",
    "  </tr>\n",
    "      \n",
    "  <tr>\n",
    "    <td>10</td>   <td>SyntaxError</td>  <td>standard of the Python is not being followed</td>\n",
    "  </tr>\n",
    "</table>"
   ]
  },
  {
   "cell_type": "markdown",
   "id": "c1c04c7b",
   "metadata": {},
   "source": [
    "## 3. Exceptional Handling: Example 1: Division by 0"
   ]
  },
  {
   "cell_type": "code",
   "execution_count": 2,
   "id": "455b721f",
   "metadata": {},
   "outputs": [
    {
     "ename": "ZeroDivisionError",
     "evalue": "division by zero",
     "output_type": "error",
     "traceback": [
      "\u001b[0;31m---------------------------------------------------------------------------\u001b[0m",
      "\u001b[0;31mZeroDivisionError\u001b[0m                         Traceback (most recent call last)",
      "Cell \u001b[0;32mIn[2], line 3\u001b[0m\n\u001b[1;32m      1\u001b[0m a\u001b[38;5;241m=\u001b[39m\u001b[38;5;241m100\u001b[39m\n\u001b[1;32m      2\u001b[0m b\u001b[38;5;241m=\u001b[39m\u001b[38;5;241m0\u001b[39m\n\u001b[0;32m----> 3\u001b[0m c\u001b[38;5;241m=\u001b[39m\u001b[43ma\u001b[49m\u001b[38;5;241;43m/\u001b[39;49m\u001b[43mb\u001b[49m\n",
      "\u001b[0;31mZeroDivisionError\u001b[0m: division by zero"
     ]
    }
   ],
   "source": [
    "a=100\n",
    "b=0\n",
    "c=a/b"
   ]
  },
  {
   "cell_type": "markdown",
   "id": "911be45c",
   "metadata": {},
   "source": []
  },
  {
   "cell_type": "markdown",
   "id": "d412e099",
   "metadata": {},
   "source": []
  },
  {
   "cell_type": "markdown",
   "id": "4e701441",
   "metadata": {},
   "source": []
  },
  {
   "cell_type": "markdown",
   "id": "88af9099",
   "metadata": {},
   "source": []
  },
  {
   "cell_type": "markdown",
   "id": "54a0be5f",
   "metadata": {},
   "source": []
  }
 ],
 "metadata": {
  "kernelspec": {
   "display_name": "Python 3 (ipykernel)",
   "language": "python",
   "name": "python3"
  },
  "language_info": {
   "codemirror_mode": {
    "name": "ipython",
    "version": 3
   },
   "file_extension": ".py",
   "mimetype": "text/x-python",
   "name": "python",
   "nbconvert_exporter": "python",
   "pygments_lexer": "ipython3",
   "version": "3.10.9"
  }
 },
 "nbformat": 4,
 "nbformat_minor": 5
}
