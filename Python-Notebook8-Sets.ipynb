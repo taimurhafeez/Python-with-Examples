{
 "cells": [
  {
   "cell_type": "markdown",
   "id": "d4368f35",
   "metadata": {},
   "source": [
    "# Sets in Python with Examples"
   ]
  },
  {
   "cell_type": "markdown",
   "id": "5340f4f9",
   "metadata": {},
   "source": [
    "Sets are used to store multiple items in a single variable. They are unordered, unchangeable*, and unindexed."
   ]
  },
  {
   "cell_type": "markdown",
   "id": "debf1347",
   "metadata": {},
   "source": [
    "1. Sets are unchangeable like tuples\n",
    "2. Can remove and items like lists"
   ]
  },
  {
   "cell_type": "markdown",
   "id": "4ad842d7",
   "metadata": {},
   "source": [
    "## 1. Creating a Set"
   ]
  },
  {
   "cell_type": "code",
   "execution_count": 1,
   "id": "7aa6a2cb",
   "metadata": {},
   "outputs": [
    {
     "name": "stdout",
     "output_type": "stream",
     "text": [
      "{'BMW', 'Mercedez', 'Audi'}\n"
     ]
    }
   ],
   "source": [
    "set1 = {\"BMW\", \"Audi\", \"Mercedez\"}\n",
    "print(set1)"
   ]
  },
  {
   "cell_type": "markdown",
   "id": "a466b596",
   "metadata": {},
   "source": [
    "## 2. Duplicates not allowed: They are ignored"
   ]
  },
  {
   "cell_type": "code",
   "execution_count": 3,
   "id": "161e4efc",
   "metadata": {},
   "outputs": [
    {
     "name": "stdout",
     "output_type": "stream",
     "text": [
      "{'BMW', 'Mercedez', 'Audi'}\n"
     ]
    }
   ],
   "source": [
    "set1 = {\"BMW\", \"Audi\", \"Mercedez\", \"BMW\"}\n",
    "print(set1)"
   ]
  },
  {
   "cell_type": "markdown",
   "id": "5183ed27",
   "metadata": {},
   "source": [
    "### 2.1 True and \"1\" are considered duplicates too."
   ]
  },
  {
   "cell_type": "code",
   "execution_count": 5,
   "id": "214508f8",
   "metadata": {},
   "outputs": [
    {
     "name": "stdout",
     "output_type": "stream",
     "text": [
      "{True, 2, 'BMW', 'Audi', 'Mercedez'}\n"
     ]
    }
   ],
   "source": [
    "set1 = {\"BMW\", \"Audi\", \"Mercedez\", True, 1,2}\n",
    "print(set1)"
   ]
  },
  {
   "cell_type": "markdown",
   "id": "75da7ac0",
   "metadata": {},
   "source": [
    "## 3. Checking length of a set"
   ]
  },
  {
   "cell_type": "code",
   "execution_count": 6,
   "id": "aed9b060",
   "metadata": {},
   "outputs": [
    {
     "name": "stdout",
     "output_type": "stream",
     "text": [
      "3\n"
     ]
    }
   ],
   "source": [
    "set1 = {\"BMW\", \"Audi\", \"Mercedez\"}\n",
    "print(len(set1))"
   ]
  },
  {
   "cell_type": "markdown",
   "id": "eeae1e17",
   "metadata": {},
   "source": [
    "## 4. Supports mixture of data types"
   ]
  },
  {
   "cell_type": "code",
   "execution_count": 7,
   "id": "c7eadba2",
   "metadata": {},
   "outputs": [
    {
     "name": "stdout",
     "output_type": "stream",
     "text": [
      "{2009, 2.0, 'BMW', True}\n"
     ]
    }
   ],
   "source": [
    "set1 = {\"BMW\", 2009, True, 2.0}\n",
    "print(set1)"
   ]
  },
  {
   "cell_type": "markdown",
   "id": "ad0ce9ec",
   "metadata": {},
   "source": [
    "## 5. Using set constructor to make a set"
   ]
  },
  {
   "cell_type": "code",
   "execution_count": 8,
   "id": "d5438c5d",
   "metadata": {},
   "outputs": [
    {
     "name": "stdout",
     "output_type": "stream",
     "text": [
      "{'BWM', 'Äudi', 'Porsche'}\n"
     ]
    }
   ],
   "source": [
    "set2=set((\"Äudi\", \"BWM\", \"Porsche\"))\n",
    "print(set2)"
   ]
  },
  {
   "cell_type": "markdown",
   "id": "5f4ba9bb",
   "metadata": {},
   "source": [
    "## 6. Accessing Items of Sets: <small><font color=red>Does NOT support indexing!</font></small>"
   ]
  },
  {
   "cell_type": "markdown",
   "id": "651e9787",
   "metadata": {},
   "source": [
    "### 6.1 Using For Loops to access items"
   ]
  },
  {
   "cell_type": "code",
   "execution_count": 14,
   "id": "ec180e55",
   "metadata": {},
   "outputs": [
    {
     "name": "stdout",
     "output_type": "stream",
     "text": [
      "BWM\n",
      "Äudi\n",
      "Porsche\n"
     ]
    }
   ],
   "source": [
    "set2=set((\"Äudi\", \"BWM\", \"Porsche\"))\n",
    "for x in set2:\n",
    "    print(x)"
   ]
  },
  {
   "cell_type": "markdown",
   "id": "a3fc6965",
   "metadata": {},
   "source": [
    "### 6.2 Checking if a set contains some passed value"
   ]
  },
  {
   "cell_type": "code",
   "execution_count": 16,
   "id": "170b757c",
   "metadata": {},
   "outputs": [
    {
     "name": "stdout",
     "output_type": "stream",
     "text": [
      "Ÿes contains BMW\n"
     ]
    }
   ],
   "source": [
    "set1 = {\"BMW\", \"Audi\", \"Mercedez\"}\n",
    "if \"BMW\"in set1:\n",
    "    print(\"Ÿes contains BMW\")"
   ]
  },
  {
   "cell_type": "markdown",
   "id": "99dce6e4",
   "metadata": {},
   "source": [
    "## 7. Adding a new Element to a set "
   ]
  },
  {
   "cell_type": "code",
   "execution_count": 17,
   "id": "08096fa8",
   "metadata": {},
   "outputs": [
    {
     "name": "stdout",
     "output_type": "stream",
     "text": [
      "{'Toyota', 'BMW', 'Mercedez', 'Audi'}\n"
     ]
    }
   ],
   "source": [
    "set1 = {\"BMW\", \"Audi\", \"Mercedez\"}\n",
    "set1.add(\"Toyota\")\n",
    "print(set1)"
   ]
  },
  {
   "cell_type": "markdown",
   "id": "ef66545a",
   "metadata": {},
   "source": [
    "## 8. Adding element of one set to another "
   ]
  },
  {
   "cell_type": "code",
   "execution_count": 18,
   "id": "c6f38c7e",
   "metadata": {},
   "outputs": [
    {
     "name": "stdout",
     "output_type": "stream",
     "text": [
      "{'Suzuki', 'Honda', 'Audi', 'Toyota', 'BMW', 'Mercedez'}\n"
     ]
    }
   ],
   "source": [
    "set1 = {\"BMW\", \"Audi\", \"Mercedez\"}\n",
    "set2 = {\"Toyota\", \"Suzuki\", \"Honda\"}\n",
    "set1.update(set2)\n",
    "print(set1)"
   ]
  },
  {
   "cell_type": "markdown",
   "id": "48494a48",
   "metadata": {},
   "source": [
    "### 8.1 Adding lists to sets"
   ]
  },
  {
   "cell_type": "code",
   "execution_count": 19,
   "id": "1286ead3",
   "metadata": {},
   "outputs": [
    {
     "name": "stdout",
     "output_type": "stream",
     "text": [
      "{2012, 'Audi', 'Mercedez', 2010, 2011, 'BMW'}\n"
     ]
    }
   ],
   "source": [
    "set1= {\"BMW\", \"Audi\", \"Mercedez\"}\n",
    "list1=[2010, 2011, 2012]\n",
    "set1.update(list1)\n",
    "print(set1)"
   ]
  },
  {
   "cell_type": "markdown",
   "id": "6b2f7aad",
   "metadata": {},
   "source": [
    "## 9. Remove Elements"
   ]
  },
  {
   "cell_type": "code",
   "execution_count": 21,
   "id": "a86ee84f",
   "metadata": {},
   "outputs": [
    {
     "name": "stdout",
     "output_type": "stream",
     "text": [
      "{'BMW', 'Mercedez'}\n"
     ]
    }
   ],
   "source": [
    "set1= {\"BMW\", \"Audi\", \"Mercedez\"}\n",
    "set1.remove(\"Audi\")\n",
    "print(set1)"
   ]
  },
  {
   "cell_type": "markdown",
   "id": "d950a86b",
   "metadata": {},
   "source": [
    "### <font color=red> Problem: </font> if item being removed does not exit, it pops an error "
   ]
  },
  {
   "cell_type": "code",
   "execution_count": 22,
   "id": "39baa11d",
   "metadata": {},
   "outputs": [
    {
     "ename": "KeyError",
     "evalue": "'Audi'",
     "output_type": "error",
     "traceback": [
      "\u001b[0;31m---------------------------------------------------------------------------\u001b[0m",
      "\u001b[0;31mKeyError\u001b[0m                                  Traceback (most recent call last)",
      "Cell \u001b[0;32mIn[22], line 1\u001b[0m\n\u001b[0;32m----> 1\u001b[0m \u001b[43mset1\u001b[49m\u001b[38;5;241;43m.\u001b[39;49m\u001b[43mremove\u001b[49m\u001b[43m(\u001b[49m\u001b[38;5;124;43m\"\u001b[39;49m\u001b[38;5;124;43mAudi\u001b[39;49m\u001b[38;5;124;43m\"\u001b[39;49m\u001b[43m)\u001b[49m\n",
      "\u001b[0;31mKeyError\u001b[0m: 'Audi'"
     ]
    }
   ],
   "source": [
    "set1.remove(\"Audi\")\n"
   ]
  },
  {
   "cell_type": "markdown",
   "id": "38d2e749",
   "metadata": {},
   "source": [
    "### <font color=green> Solution: </font> Use <font color=blue>discard()</font> method instead of remove"
   ]
  },
  {
   "cell_type": "code",
   "execution_count": 23,
   "id": "d7bc8874",
   "metadata": {},
   "outputs": [
    {
     "name": "stdout",
     "output_type": "stream",
     "text": [
      "{'BMW', 'Mercedez'}\n"
     ]
    }
   ],
   "source": [
    "set1= {\"BMW\", \"Mercedez\"}\n",
    "set1.discard(\"Audi\")\n",
    "print(set1)"
   ]
  },
  {
   "cell_type": "markdown",
   "id": "b4c1c62b",
   "metadata": {},
   "source": [
    "## 10. Deleting Sets"
   ]
  },
  {
   "cell_type": "code",
   "execution_count": 24,
   "id": "f4d48a62",
   "metadata": {},
   "outputs": [
    {
     "ename": "NameError",
     "evalue": "name 'set1' is not defined",
     "output_type": "error",
     "traceback": [
      "\u001b[0;31m---------------------------------------------------------------------------\u001b[0m",
      "\u001b[0;31mNameError\u001b[0m                                 Traceback (most recent call last)",
      "Cell \u001b[0;32mIn[24], line 3\u001b[0m\n\u001b[1;32m      1\u001b[0m set1\u001b[38;5;241m=\u001b[39m {\u001b[38;5;124m\"\u001b[39m\u001b[38;5;124mBMW\u001b[39m\u001b[38;5;124m\"\u001b[39m, \u001b[38;5;124m\"\u001b[39m\u001b[38;5;124mMercedez\u001b[39m\u001b[38;5;124m\"\u001b[39m}\n\u001b[1;32m      2\u001b[0m \u001b[38;5;28;01mdel\u001b[39;00m set1\n\u001b[0;32m----> 3\u001b[0m \u001b[38;5;28mprint\u001b[39m(\u001b[43mset1\u001b[49m)\n",
      "\u001b[0;31mNameError\u001b[0m: name 'set1' is not defined"
     ]
    }
   ],
   "source": [
    "set1= {\"BMW\", \"Mercedez\"}\n",
    "del set1\n",
    "print(set1)"
   ]
  },
  {
   "cell_type": "markdown",
   "id": "2a84c490",
   "metadata": {},
   "source": [
    "## 11. Joing sets with <font color=blue>union()</font> function"
   ]
  },
  {
   "cell_type": "markdown",
   "id": "3a5647e8",
   "metadata": {},
   "source": [
    "method returns a new set with all items from both sets"
   ]
  },
  {
   "cell_type": "code",
   "execution_count": 25,
   "id": "745299e2",
   "metadata": {},
   "outputs": [
    {
     "name": "stdout",
     "output_type": "stream",
     "text": [
      "{'Suzuki', 'Honda', 'Toyota', 'BMW', 'Mercedez'}\n"
     ]
    }
   ],
   "source": [
    "set1= {\"BMW\", \"Mercedez\"}\n",
    "set2 = {\"Toyota\", \"Suzuki\", \"Honda\"}\n",
    "set3=set1.union(set2)\n",
    "print(set3)"
   ]
  },
  {
   "cell_type": "markdown",
   "id": "3fcf0e82",
   "metadata": {},
   "source": [
    "## 12. Intersection of sets: with <font color=blue>intersection_update()</font> function"
   ]
  },
  {
   "cell_type": "markdown",
   "id": "2e794c49",
   "metadata": {},
   "source": [
    "Keep the items that exist in both set1, and set2"
   ]
  },
  {
   "cell_type": "code",
   "execution_count": 26,
   "id": "d3d1f930",
   "metadata": {},
   "outputs": [
    {
     "name": "stdout",
     "output_type": "stream",
     "text": [
      "{'BMW'}\n"
     ]
    }
   ],
   "source": [
    "set1= {\"BMW\", \"Mercedez\"}\n",
    "set2 = {\"BMW\", \"Suzuki\", \"Honda\"}\n",
    "set1.intersection_update(set2)\n",
    "print(set1)"
   ]
  },
  {
   "cell_type": "markdown",
   "id": "d9fc2ba9",
   "metadata": {},
   "source": [
    "### 12.1 Intersection of sets: with <font color=blue>intersection()</font> function"
   ]
  },
  {
   "cell_type": "markdown",
   "id": "235758d7",
   "metadata": {},
   "source": [
    "method will return a new set, that only contains the items that are present in both sets."
   ]
  },
  {
   "cell_type": "code",
   "execution_count": 27,
   "id": "d27961ee",
   "metadata": {},
   "outputs": [
    {
     "name": "stdout",
     "output_type": "stream",
     "text": [
      "{'BMW'}\n"
     ]
    }
   ],
   "source": [
    "set1= {\"BMW\", \"Mercedez\"}\n",
    "set2 = {\"BMW\", \"Suzuki\", \"Honda\"}\n",
    "set3=set1.intersection(set2)\n",
    "print(set3)"
   ]
  },
  {
   "cell_type": "markdown",
   "id": "33ad4eae",
   "metadata": {},
   "source": [
    "## 13. Keeping on non-duplicate value: with <font color=blue>symmetric_difference()</font> function"
   ]
  },
  {
   "cell_type": "markdown",
   "id": "2f1bbbd6",
   "metadata": {},
   "source": [
    "method will return a new set, that contains only the elements that are present only in one of them."
   ]
  },
  {
   "cell_type": "code",
   "execution_count": 28,
   "id": "97f06498",
   "metadata": {},
   "outputs": [
    {
     "name": "stdout",
     "output_type": "stream",
     "text": [
      "{'Suzuki', 'Mercedez', 'Honda'}\n"
     ]
    }
   ],
   "source": [
    "set1= {\"BMW\", \"Mercedez\"}\n",
    "set2 = {\"BMW\", \"Suzuki\", \"Honda\"}\n",
    "set3=set1.symmetric_difference(set2)\n",
    "print(set3)"
   ]
  },
  {
   "cell_type": "code",
   "execution_count": null,
   "id": "da65d19a",
   "metadata": {},
   "outputs": [],
   "source": []
  }
 ],
 "metadata": {
  "kernelspec": {
   "display_name": "Python 3 (ipykernel)",
   "language": "python",
   "name": "python3"
  },
  "language_info": {
   "codemirror_mode": {
    "name": "ipython",
    "version": 3
   },
   "file_extension": ".py",
   "mimetype": "text/x-python",
   "name": "python",
   "nbconvert_exporter": "python",
   "pygments_lexer": "ipython3",
   "version": "3.10.9"
  }
 },
 "nbformat": 4,
 "nbformat_minor": 5
}
