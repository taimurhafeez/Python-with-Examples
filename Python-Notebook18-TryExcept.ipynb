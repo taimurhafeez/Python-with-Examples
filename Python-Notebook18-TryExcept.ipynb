{
 "cells": [
  {
   "cell_type": "markdown",
   "id": "128b50fe",
   "metadata": {},
   "source": [
    "# Exception In Python part 2"
   ]
  },
  {
   "cell_type": "markdown",
   "id": "b04d99c6",
   "metadata": {},
   "source": [
    "## 1. Format: Try and Except"
   ]
  },
  {
   "cell_type": "code",
   "execution_count": null,
   "id": "e02d3caa",
   "metadata": {},
   "outputs": [],
   "source": [
    "try:\n",
    "    # Some Code\n",
    "except:\n",
    "    # Executed if error in the\n",
    "    # try block"
   ]
  },
  {
   "cell_type": "markdown",
   "id": "15bedc2c",
   "metadata": {},
   "source": [
    "### 1.1 Example 1: Simple Catch"
   ]
  },
  {
   "cell_type": "code",
   "execution_count": 1,
   "id": "b3fa0ec9",
   "metadata": {},
   "outputs": [
    {
     "name": "stdout",
     "output_type": "stream",
     "text": [
      "Sorry ! cannot divide by 0 \n"
     ]
    }
   ],
   "source": [
    "#--------------------------------------------\n",
    "#-----------Function_-----------------------\n",
    "def divisor(a, b):\n",
    "    try:\n",
    "        outcome = a // b\n",
    "        print(\"Result is :\", result)\n",
    "    except ZeroDivisionError:\n",
    "        print(\"Sorry ! cannot divide by 0 \")\n",
    "#----------------------------------------------\n",
    "divisor(3, 0)"
   ]
  },
  {
   "cell_type": "markdown",
   "id": "d3c8e416",
   "metadata": {},
   "source": [
    "### 1.2 Example: Prinitng exception error"
   ]
  },
  {
   "cell_type": "code",
   "execution_count": 3,
   "id": "4dbcd1c0",
   "metadata": {},
   "outputs": [
    {
     "name": "stdout",
     "output_type": "stream",
     "text": [
      "The Error is: integer division or modulo by zero\n"
     ]
    }
   ],
   "source": [
    "#--------------------------------------------\n",
    "#-----------Function_-----------------------\n",
    "def divisor(a, b):\n",
    "    try:\n",
    "        outcome = a // b\n",
    "        print(\"Result is :\", result)\n",
    "    except Exception as exp:\n",
    "        print(\"The Error is:\",exp)\n",
    "#----------------------------------------------\n",
    "divisor(89, 0)\n"
   ]
  },
  {
   "cell_type": "markdown",
   "id": "6089df76",
   "metadata": {},
   "source": [
    "## 2. Format: Try , Else and Except"
   ]
  },
  {
   "cell_type": "code",
   "execution_count": null,
   "id": "876666f7",
   "metadata": {},
   "outputs": [],
   "source": [
    "try:\n",
    "    # Some Code\n",
    "except:\n",
    "    # Executed if error in the\n",
    "    # try block\n",
    "else:\n",
    "    # execute if no exception"
   ]
  },
  {
   "cell_type": "markdown",
   "id": "0c573a02",
   "metadata": {},
   "source": []
  },
  {
   "cell_type": "markdown",
   "id": "1cb008cd",
   "metadata": {},
   "source": []
  },
  {
   "cell_type": "markdown",
   "id": "4efc124e",
   "metadata": {},
   "source": []
  },
  {
   "cell_type": "markdown",
   "id": "abab39f3",
   "metadata": {},
   "source": []
  },
  {
   "cell_type": "markdown",
   "id": "5b529878",
   "metadata": {},
   "source": []
  },
  {
   "cell_type": "markdown",
   "id": "d9b2e53f",
   "metadata": {},
   "source": []
  },
  {
   "cell_type": "markdown",
   "id": "01c03a62",
   "metadata": {},
   "source": []
  },
  {
   "cell_type": "markdown",
   "id": "fd82b33b",
   "metadata": {},
   "source": []
  },
  {
   "cell_type": "markdown",
   "id": "de488d50",
   "metadata": {},
   "source": []
  }
 ],
 "metadata": {
  "kernelspec": {
   "display_name": "Python 3 (ipykernel)",
   "language": "python",
   "name": "python3"
  },
  "language_info": {
   "codemirror_mode": {
    "name": "ipython",
    "version": 3
   },
   "file_extension": ".py",
   "mimetype": "text/x-python",
   "name": "python",
   "nbconvert_exporter": "python",
   "pygments_lexer": "ipython3",
   "version": "3.10.9"
  }
 },
 "nbformat": 4,
 "nbformat_minor": 5
}
