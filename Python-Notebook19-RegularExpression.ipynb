{
 "cells": [
  {
   "cell_type": "markdown",
   "id": "42c16826",
   "metadata": {},
   "source": [
    "# Regular Expression"
   ]
  },
  {
   "cell_type": "markdown",
   "id": "1386e4a7",
   "metadata": {},
   "source": [
    "<font style=\"background-color:powderblue\">A regular expression is a sequence of characters that specifies a match pattern in text. Usually such patterns are used by string-searching algorithms for \"find\" or \"find and replace\" operations on strings, or for input validation. </font>"
   ]
  },
  {
   "cell_type": "markdown",
   "id": "526d9d8e",
   "metadata": {},
   "source": [
    "## <font color=red> re </font>module in Python "
   ]
  },
  {
   "cell_type": "markdown",
   "id": "44029bd7",
   "metadata": {},
   "source": [
    "### Example 1. "
   ]
  },
  {
   "cell_type": "code",
   "execution_count": 2,
   "id": "0b961d87",
   "metadata": {},
   "outputs": [
    {
     "name": "stdout",
     "output_type": "stream",
     "text": [
      "<re.Match object; span=(0, 27), match='The Iphone is made by Apple'>\n"
     ]
    }
   ],
   "source": [
    "import re\n",
    "\n",
    "txt = \"The Iphone is made by Apple\"\n",
    "x = re.search(\"^The.*Apple$\", txt)\n",
    "print(x)"
   ]
  },
  {
   "cell_type": "markdown",
   "id": "c446eadc",
   "metadata": {},
   "source": [
    "### Example 2. <font color=red> findall()</font>"
   ]
  },
  {
   "cell_type": "markdown",
   "id": "529e832e",
   "metadata": {},
   "source": [
    "#### <font style=\"background-color:powderblue\">prints a list of all matches </font>"
   ]
  },
  {
   "cell_type": "code",
   "execution_count": 11,
   "id": "dcb7be5d",
   "metadata": {},
   "outputs": [
    {
     "name": "stdout",
     "output_type": "stream",
     "text": [
      "['Ipad', 'Ipad']\n"
     ]
    }
   ],
   "source": [
    "import re\n",
    "\n",
    "txt = \"The IpadAir and IpadPro are made by Apple\"\n",
    "x = re.findall(\"Ipad\", txt)\n",
    "print(x)"
   ]
  },
  {
   "cell_type": "markdown",
   "id": "56196eaa",
   "metadata": {},
   "source": [
    "### Example 3. <font color=red> search()</font>"
   ]
  },
  {
   "cell_type": "markdown",
   "id": "43a726b7",
   "metadata": {},
   "source": [
    "#### <font style=\"background-color:powderblue\">The <font color=red> search() </font>function searches the string for a match, and returns a Match object if there is a match. If there is more than one match, only the first occurrence of the match will be returned</font>"
   ]
  },
  {
   "cell_type": "code",
   "execution_count": 14,
   "id": "bba64ef8",
   "metadata": {},
   "outputs": [
    {
     "name": "stdout",
     "output_type": "stream",
     "text": [
      "The first white-space character is located in position: 10\n"
     ]
    }
   ],
   "source": [
    "import re\n",
    "\n",
    "data = \"TheIpadAir and IpadPro are made by Apple\"\n",
    "x = re.search(\"\\s\", data)\n",
    "\n",
    "print(\"The first white-space character is located in position:\", x.start())"
   ]
  },
  {
   "cell_type": "markdown",
   "id": "fc6eb09a",
   "metadata": {},
   "source": [
    "### Example 4. <font color=red> split()</font>"
   ]
  },
  {
   "cell_type": "markdown",
   "id": "79c8f724",
   "metadata": {},
   "source": [
    " #### <font style=\"background-color:powderblue\">The <font color=red> split() </font> function returns a list where the string has been split at each match:</font>"
   ]
  },
  {
   "cell_type": "code",
   "execution_count": 15,
   "id": "017348a3",
   "metadata": {},
   "outputs": [
    {
     "name": "stdout",
     "output_type": "stream",
     "text": [
      "['TheIpadAir', 'and', 'IpadPro', 'are', 'made', 'by', 'Apple']\n"
     ]
    }
   ],
   "source": [
    "import re\n",
    "\n",
    "data = \"TheIpadAir and IpadPro are made by Apple\"\n",
    "x = re.split(\"\\s\", data)\n",
    "print(x)"
   ]
  },
  {
   "cell_type": "markdown",
   "id": "42f8a4d7",
   "metadata": {},
   "source": []
  },
  {
   "cell_type": "markdown",
   "id": "95c5eb7c",
   "metadata": {},
   "source": []
  },
  {
   "cell_type": "markdown",
   "id": "68723c0d",
   "metadata": {},
   "source": []
  },
  {
   "cell_type": "markdown",
   "id": "e8fe5b81",
   "metadata": {},
   "source": []
  },
  {
   "cell_type": "markdown",
   "id": "d7e8104e",
   "metadata": {},
   "source": []
  },
  {
   "cell_type": "markdown",
   "id": "e1611218",
   "metadata": {},
   "source": []
  },
  {
   "cell_type": "markdown",
   "id": "b15311c3",
   "metadata": {},
   "source": []
  },
  {
   "cell_type": "markdown",
   "id": "493a0aa9",
   "metadata": {},
   "source": []
  },
  {
   "cell_type": "markdown",
   "id": "5a7b3ea5",
   "metadata": {},
   "source": []
  }
 ],
 "metadata": {
  "kernelspec": {
   "display_name": "Python 3 (ipykernel)",
   "language": "python",
   "name": "python3"
  },
  "language_info": {
   "codemirror_mode": {
    "name": "ipython",
    "version": 3
   },
   "file_extension": ".py",
   "mimetype": "text/x-python",
   "name": "python",
   "nbconvert_exporter": "python",
   "pygments_lexer": "ipython3",
   "version": "3.10.9"
  }
 },
 "nbformat": 4,
 "nbformat_minor": 5
}
