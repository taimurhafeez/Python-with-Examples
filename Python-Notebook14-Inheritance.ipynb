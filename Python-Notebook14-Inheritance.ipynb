{
 "cells": [
  {
   "cell_type": "markdown",
   "metadata": {},
   "source": [
    "# Inheritance in Python"
   ]
  },
  {
   "cell_type": "markdown",
   "metadata": {},
   "source": [
    "#### Python is an object oriented language"
   ]
  },
  {
   "cell_type": "markdown",
   "metadata": {},
   "source": [
    "## 1. Basic Snytax:"
   ]
  },
  {
   "cell_type": "code",
   "execution_count": 3,
   "metadata": {},
   "outputs": [],
   "source": [
    "class ParentClass:\n",
    "    pass\n",
    "class InheritedClass(ParentClass):\n",
    "    pass"
   ]
  },
  {
   "cell_type": "markdown",
   "metadata": {},
   "source": [
    "## 2. Inheritance in action"
   ]
  },
  {
   "cell_type": "markdown",
   "metadata": {},
   "source": [
    "### 2.1 Creating a parent class"
   ]
  },
  {
   "cell_type": "markdown",
   "metadata": {},
   "source": [
    "#### Consider below a parent class"
   ]
  },
  {
   "cell_type": "code",
   "execution_count": 41,
   "metadata": {},
   "outputs": [
    {
     "name": "stdout",
     "output_type": "stream",
     "text": [
      "Iphone11 1111\n"
     ]
    }
   ],
   "source": [
    "class AppleProduct(object):\n",
    "   \n",
    "  # Constructor\n",
    "  def __init__(self, name, serialNumber):\n",
    "    self.name = name\n",
    "    self.serialNumber = serialNumber\n",
    " \n",
    "  # Method to show details\n",
    "  def DisplayBasicInfo(self):\n",
    "    print(self.name, self.serialNumber)\n",
    " \n",
    " \n",
    "# Driver code\n",
    "prod1 = AppleProduct(\"Iphone11\", 1111) # An Object of Person\n",
    "prod1.DisplayBasicInfo()"
   ]
  },
  {
   "cell_type": "markdown",
   "metadata": {},
   "source": [
    "### 2.2 Inherting parent class and making a child class"
   ]
  },
  {
   "cell_type": "code",
   "execution_count": 45,
   "metadata": {},
   "outputs": [],
   "source": [
    "class Iphone(AppleProduct):\n",
    "   \n",
    "  # Constructor\n",
    "  def __init__(self, name, serialNumber, memoryspecs, camerafrontspecs, imeinumber):\n",
    "    AppleProduct.__init__(self, name, serialNumber)\n",
    "    self.memoryspecs = memoryspecs\n",
    "    self.camerafrontspecs = camerafrontspecs\n",
    "    self.imeinumber=imeinumber\n",
    "  def DisplayAdvanceInfo(self):\n",
    "    self.DisplayBasicInfo()\n",
    "    print(self.memoryspecs, self.camerafrontspecs, self.imeinumber)\n",
    "    "
   ]
  },
  {
   "cell_type": "code",
   "execution_count": 46,
   "metadata": {},
   "outputs": [],
   "source": [
    "iphon1=Iphone(\"iphone11\",2222,128,\"12MP\",123456789)"
   ]
  },
  {
   "cell_type": "code",
   "execution_count": 47,
   "metadata": {},
   "outputs": [
    {
     "name": "stdout",
     "output_type": "stream",
     "text": [
      "iphone11 2222\n",
      "128 12MP 123456789\n"
     ]
    }
   ],
   "source": [
    "iphon1.DisplayAdvanceInfo()"
   ]
  },
  {
   "cell_type": "markdown",
   "metadata": {},
   "source": [
    "#### Important Points to be noted:"
   ]
  },
  {
   "cell_type": "markdown",
   "metadata": {},
   "source": [
    "- Note that iphon1 is an object of drived class  <b> <em> Iphone </em> </b>and in its advanced method, it is calling method of a parent class  <b> <em> AppleProduct </em> </b> that shows basic information. Thus, we do not need to call two seperate method to display the information.\n",
    "- Note that in the constructor of  <b> <em> Iphone </em> </b>, there is call to the constructor of the parent class. If this is not done, constructor will be overridden and we would have to initialize all parameters(name, serialNumber) in the new constructor."
   ]
  },
  {
   "cell_type": "markdown",
   "metadata": {},
   "source": [
    "## 2.3 Nested Inheritance: Driving a class from an already drived class"
   ]
  },
  {
   "cell_type": "code",
   "execution_count": 67,
   "metadata": {},
   "outputs": [],
   "source": [
    "class RefurbishedIphone(Iphone):\n",
    "   \n",
    "  # Constructor\n",
    "  def __init__(self, name, serialNumber, memoryspecs, camerafrontspecs, imeinumber,refurbYear):\n",
    "    AppleProduct.__init__(self, name, serialNumber)\n",
    "    Iphone.__init__(self, name, serialNumber, memoryspecs, camerafrontspecs, imeinumber)\n",
    "    self.refurbYear=refurbYear\n",
    "  def displayAllInfo(self):\n",
    "    self.DisplayAdvanceInfo()\n",
    "    print(self.refurbYear)\n",
    "    "
   ]
  },
  {
   "cell_type": "code",
   "execution_count": 68,
   "metadata": {},
   "outputs": [],
   "source": [
    "refiphon1=RefurbishedIphone(\"iphone11\",2222,128,\"12MP\",123456789,\"2023\")"
   ]
  },
  {
   "cell_type": "code",
   "execution_count": 69,
   "metadata": {},
   "outputs": [
    {
     "name": "stdout",
     "output_type": "stream",
     "text": [
      "iphone11 2222\n",
      "128 12MP 123456789\n",
      "2023\n"
     ]
    }
   ],
   "source": [
    "refiphon1.displayAllInfo()"
   ]
  },
  {
   "cell_type": "markdown",
   "metadata": {},
   "source": [
    "#### Important Points to be noted:"
   ]
  },
  {
   "cell_type": "markdown",
   "metadata": {},
   "source": [
    "-  <b> <em> RefurbishedIphone </em> </b> class is drived from the <b> <em> Iphone </em> </b> class which itself is drived from <b> <em> AppleProduct </em> </b> class.\n",
    "- we only added print statement in displayAllInfo method for the Refurbished aspect and rest of the work is being done from the parent class's methods."
   ]
  },
  {
   "cell_type": "markdown",
   "metadata": {},
   "source": [
    "## 2.3 Multiple Inheritance: Driving a class from two classes"
   ]
  },
  {
   "cell_type": "markdown",
   "metadata": {},
   "source": []
  }
 ],
 "metadata": {
  "kernelspec": {
   "display_name": "Python 3",
   "language": "python",
   "name": "python3"
  },
  "language_info": {
   "codemirror_mode": {
    "name": "ipython",
    "version": 3
   },
   "file_extension": ".py",
   "mimetype": "text/x-python",
   "name": "python",
   "nbconvert_exporter": "python",
   "pygments_lexer": "ipython3",
   "version": "3.8.5"
  }
 },
 "nbformat": 4,
 "nbformat_minor": 4
}
