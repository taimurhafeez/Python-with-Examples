{
 "cells": [
  {
   "cell_type": "markdown",
   "id": "ef8165fc",
   "metadata": {},
   "source": [
    "# Dictionaries\n",
    "1. are used to store data values in key:value pairs.\n",
    "2. ordered, changeable and do not allow duplicates\n"
   ]
  },
  {
   "cell_type": "markdown",
   "id": "672f682c",
   "metadata": {},
   "source": [
    "# 1. Initlization"
   ]
  },
  {
   "cell_type": "code",
   "execution_count": 3,
   "id": "1c537afb",
   "metadata": {},
   "outputs": [
    {
     "name": "stdout",
     "output_type": "stream",
     "text": [
      "{'brand': 'Apple', 'model': 'Iphone14', 'year': 2022}\n"
     ]
    }
   ],
   "source": [
    "appexample = {\n",
    "  \"brand\": \"Apple\",\n",
    "  \"model\": \"Iphone14\",\n",
    "  \"year\": 2022\n",
    "}\n",
    "print(appexample)"
   ]
  },
  {
   "cell_type": "markdown",
   "id": "b1cd6803",
   "metadata": {},
   "source": [
    "### 1.1 Using dict constructor"
   ]
  },
  {
   "cell_type": "code",
   "execution_count": 10,
   "id": "ed986d0a",
   "metadata": {},
   "outputs": [],
   "source": [
    "samexample=dict([('brand','Samsung'), ('model','Galaxy23Ultra'), ('year',2023)])"
   ]
  },
  {
   "cell_type": "markdown",
   "id": "2c13db82",
   "metadata": {},
   "source": [
    "each pair has a key and a value. brand is key, Apple is a value, model is the key, Iphone14 is a value, year is the key, 2022 is the value."
   ]
  },
  {
   "cell_type": "markdown",
   "id": "321a18f4",
   "metadata": {},
   "source": [
    "## 2. Accessing value with key"
   ]
  },
  {
   "cell_type": "code",
   "execution_count": 5,
   "id": "20882e88",
   "metadata": {},
   "outputs": [
    {
     "name": "stdout",
     "output_type": "stream",
     "text": [
      "Iphone14\n"
     ]
    }
   ],
   "source": [
    "print(appexample['model'])"
   ]
  },
  {
   "cell_type": "markdown",
   "id": "00169e83",
   "metadata": {},
   "source": [
    "## 3. Dubplicates not allowed: if done, <font color=purple> overwrites </font> the existing value"
   ]
  },
  {
   "cell_type": "code",
   "execution_count": null,
   "id": "d28d2bdf",
   "metadata": {},
   "outputs": [],
   "source": []
  },
  {
   "cell_type": "code",
   "execution_count": null,
   "id": "d20297a7",
   "metadata": {},
   "outputs": [],
   "source": []
  },
  {
   "cell_type": "code",
   "execution_count": null,
   "id": "81161602",
   "metadata": {},
   "outputs": [],
   "source": []
  },
  {
   "cell_type": "code",
   "execution_count": null,
   "id": "ef26f8d3",
   "metadata": {},
   "outputs": [],
   "source": []
  },
  {
   "cell_type": "code",
   "execution_count": null,
   "id": "a67ccfe4",
   "metadata": {},
   "outputs": [],
   "source": []
  },
  {
   "cell_type": "code",
   "execution_count": null,
   "id": "12d3e991",
   "metadata": {},
   "outputs": [],
   "source": []
  }
 ],
 "metadata": {
  "kernelspec": {
   "display_name": "Python 3 (ipykernel)",
   "language": "python",
   "name": "python3"
  },
  "language_info": {
   "codemirror_mode": {
    "name": "ipython",
    "version": 3
   },
   "file_extension": ".py",
   "mimetype": "text/x-python",
   "name": "python",
   "nbconvert_exporter": "python",
   "pygments_lexer": "ipython3",
   "version": "3.10.9"
  }
 },
 "nbformat": 4,
 "nbformat_minor": 5
}
