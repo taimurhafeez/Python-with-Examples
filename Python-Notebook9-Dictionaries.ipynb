{
 "cells": [
  {
   "cell_type": "markdown",
   "id": "8f0fdfde",
   "metadata": {},
   "source": [
    "# Dictionaries\n",
    "1. `are used to store data values in key:value pairs.`\n",
    "2. `ordered, changeable and do not allow duplicates`\n"
   ]
  },
  {
   "cell_type": "markdown",
   "id": "ba8c2d55",
   "metadata": {},
   "source": [
    "# 1. Initialization"
   ]
  },
  {
   "cell_type": "code",
   "execution_count": 3,
   "id": "48f99a56",
   "metadata": {},
   "outputs": [
    {
     "name": "stdout",
     "output_type": "stream",
     "text": [
      "{'brand': 'Apple', 'model': 'Iphone14', 'year': 2022}\n"
     ]
    }
   ],
   "source": [
    "appexample = {\n",
    "  \"brand\": \"Apple\",\n",
    "  \"model\": \"Iphone14\",\n",
    "  \"year\": 2022\n",
    "}\n",
    "print(appexample)"
   ]
  },
  {
   "cell_type": "markdown",
   "id": "86487cd5",
   "metadata": {},
   "source": [
    "### 1.1 Using <font color=red> dict()</font>constructor"
   ]
  },
  {
   "cell_type": "code",
   "execution_count": 17,
   "id": "4c133326",
   "metadata": {},
   "outputs": [],
   "source": [
    "samexample=dict([('brand','Samsung'), ('model','Galaxy23Ultra'), ('year',2023)])"
   ]
  },
  {
   "cell_type": "markdown",
   "id": "0124ba28",
   "metadata": {},
   "source": [
    "`each pair has a key and a value. brand is key, Apple is a value, model is the key, Iphone14 is a value, year is the key, 2022 is the value.`"
   ]
  },
  {
   "cell_type": "markdown",
   "id": "15723ff7",
   "metadata": {},
   "source": [
    "## 2. Accessing value with key"
   ]
  },
  {
   "cell_type": "code",
   "execution_count": 20,
   "id": "9fa31c2c",
   "metadata": {},
   "outputs": [
    {
     "name": "stdout",
     "output_type": "stream",
     "text": [
      "Iphone14\n"
     ]
    }
   ],
   "source": [
    "print(appexample['model'])"
   ]
  },
  {
   "cell_type": "markdown",
   "id": "963f7c27",
   "metadata": {},
   "source": [
    "## 2.1 Access with <font color=red>get()</font> method\n"
   ]
  },
  {
   "cell_type": "code",
   "execution_count": 19,
   "id": "afad85be",
   "metadata": {},
   "outputs": [
    {
     "name": "stdout",
     "output_type": "stream",
     "text": [
      "Iphone14\n"
     ]
    }
   ],
   "source": [
    "appexample = {\n",
    "  \"brand\": \"Apple\",\n",
    "  \"model\": \"Iphone14\",\n",
    "  \"year\": 2022\n",
    "}\n",
    "x=appexample.get('model')\n",
    "print(x)"
   ]
  },
  {
   "cell_type": "markdown",
   "id": "7c3ff650",
   "metadata": {},
   "source": [
    "## 3. Dubplicates not allowed: if done, <font color=BlueViolet> overwrites </font> the existing value"
   ]
  },
  {
   "cell_type": "code",
   "execution_count": 11,
   "id": "f69eab2d",
   "metadata": {},
   "outputs": [
    {
     "name": "stdout",
     "output_type": "stream",
     "text": [
      "{'brand': 'Apple', 'model': 'Iphone14', 'year': 2023}\n"
     ]
    }
   ],
   "source": [
    "appexample = {\n",
    "  \"brand\": \"Apple\",\n",
    "  \"model\": \"Iphone14\",\n",
    "  \"year\": 2022,\n",
    "      \"year\": 2023\n",
    "}\n",
    "print(appexample)"
   ]
  },
  {
   "cell_type": "markdown",
   "id": "756fd33e",
   "metadata": {},
   "source": [
    "## 4. Checking length of the dictionary"
   ]
  },
  {
   "cell_type": "code",
   "execution_count": 12,
   "id": "cd8df2a1",
   "metadata": {},
   "outputs": [
    {
     "data": {
      "text/plain": [
       "3"
      ]
     },
     "execution_count": 12,
     "metadata": {},
     "output_type": "execute_result"
    }
   ],
   "source": [
    "len(appexample)"
   ]
  },
  {
   "cell_type": "markdown",
   "id": "43399bc8",
   "metadata": {},
   "source": [
    "## 5. Support any data types: <br><br><small> <font color=red>Note the list inside the dictionary!</font></small>"
   ]
  },
  {
   "cell_type": "code",
   "execution_count": 22,
   "id": "9a6986d7",
   "metadata": {},
   "outputs": [
    {
     "name": "stdout",
     "output_type": "stream",
     "text": [
      "{'brand': 'Apple', 'ProductStock': 5000, 'RevenueBillions': 1.5, 'year': 2022, 'Productlist': ['Iphone14', '14Plus', '14Pro', '14ProMax']}\n"
     ]
    }
   ],
   "source": [
    "appexample = {\n",
    "  \"brand\": \"Apple\",\n",
    "  \"ProductStock\": 5000,\n",
    "    \"RevenueBillions\": 1.5,\n",
    "  \"year\": 2022,\n",
    "      \"Productlist\": ['Iphone14','14Plus', '14Pro', '14ProMax']\n",
    "}\n",
    "print(appexample)"
   ]
  },
  {
   "cell_type": "markdown",
   "id": "f0bfc241",
   "metadata": {},
   "source": [
    "## 6 Getting Keys of dictionary with the <font color=red>keys()</font>  method  <br> <br>\n",
    "<font size=small> `returns a list of keys`</font> "
   ]
  },
  {
   "cell_type": "code",
   "execution_count": 23,
   "id": "a847ba44",
   "metadata": {},
   "outputs": [
    {
     "name": "stdout",
     "output_type": "stream",
     "text": [
      "dict_keys(['brand', 'ProductStock', 'RevenueBillions', 'year', 'Productlist'])\n"
     ]
    }
   ],
   "source": [
    "mykeys=appexample.keys()\n",
    "print(mykeys)"
   ]
  },
  {
   "cell_type": "markdown",
   "id": "566e1826",
   "metadata": {},
   "source": [
    "## 7. Adding a new element to the dictionary"
   ]
  },
  {
   "cell_type": "code",
   "execution_count": 26,
   "id": "57b6695b",
   "metadata": {},
   "outputs": [
    {
     "name": "stdout",
     "output_type": "stream",
     "text": [
      "{'brand': 'Apple', 'ProductStock': 5000, 'RevenueBillions': 1.5, 'year': 2022, 'Productlist': ['Iphone14', '14Plus', '14Pro', '14ProMax'], 'TaxNumber': 123456789}\n"
     ]
    }
   ],
   "source": [
    "appexample['TaxNumber']=123456789\n",
    "print(appexample)"
   ]
  },
  {
   "cell_type": "markdown",
   "id": "b3494fdb",
   "metadata": {},
   "source": [
    "## 8. Getting values of dictionary with the <font color=red>values()</font>  method  <br> <br>\n",
    "<font size=\"-1\"> `returns a list of values`</font> "
   ]
  },
  {
   "cell_type": "code",
   "execution_count": 27,
   "id": "af9ad364",
   "metadata": {},
   "outputs": [
    {
     "name": "stdout",
     "output_type": "stream",
     "text": [
      "dict_values(['Apple', 5000, 1.5, 2022, ['Iphone14', '14Plus', '14Pro', '14ProMax'], 123456789])\n"
     ]
    }
   ],
   "source": [
    "myvalues=appexample.values()\n",
    "print(myvalues)"
   ]
  },
  {
   "cell_type": "markdown",
   "id": "60824153",
   "metadata": {},
   "source": [
    "## 9. Updating a value in a dictionary"
   ]
  },
  {
   "cell_type": "code",
   "execution_count": 28,
   "id": "2cda2ad5",
   "metadata": {},
   "outputs": [
    {
     "name": "stdout",
     "output_type": "stream",
     "text": [
      "{'brand': 'Apple', 'ProductStock': 4800, 'RevenueBillions': 1.5, 'year': 2022, 'Productlist': ['Iphone14', '14Plus', '14Pro', '14ProMax'], 'TaxNumber': 123456789}\n"
     ]
    }
   ],
   "source": [
    "appexample['ProductStock']=4800\n",
    "print(appexample)"
   ]
  },
  {
   "cell_type": "markdown",
   "id": "942450f5",
   "metadata": {},
   "source": [
    "## 10. Converting each key value pair as a tuple in a list using method <font color=red>items()</font>."
   ]
  },
  {
   "cell_type": "code",
   "execution_count": 37,
   "id": "a569ccda",
   "metadata": {},
   "outputs": [
    {
     "data": {
      "text/plain": [
       "dict_items([('brand', 'Apple'), ('ProductStock', 4800), ('RevenueBillions', 1.5), ('year', 2022), ('Productlist', ['Iphone14', '14Plus', '14Pro', '14ProMax']), ('TaxNumber', 123456789)])"
      ]
     },
     "execution_count": 37,
     "metadata": {},
     "output_type": "execute_result"
    }
   ],
   "source": [
    "tem=appexample.items()\n",
    "tem"
   ]
  },
  {
   "cell_type": "markdown",
   "id": "3a4683a3",
   "metadata": {},
   "source": [
    "## 11. Checking if a key exists in a dictionary"
   ]
  },
  {
   "cell_type": "code",
   "execution_count": 38,
   "id": "68a06827",
   "metadata": {},
   "outputs": [
    {
     "name": "stdout",
     "output_type": "stream",
     "text": [
      "yes\n"
     ]
    }
   ],
   "source": [
    "if \"year\" in appexample:\n",
    "    print(\"yes\")"
   ]
  },
  {
   "cell_type": "markdown",
   "id": "a044a79d",
   "metadata": {},
   "source": [
    "## 12. Removing an item from a dictionary using method <font color=red>pop()</font>. <br>\n",
    "<font size=small> `deletes the item with the given key name`</font> "
   ]
  },
  {
   "cell_type": "code",
   "execution_count": 51,
   "id": "7d6b1129",
   "metadata": {},
   "outputs": [
    {
     "data": {
      "text/plain": [
       "{'brand': 'Apple',\n",
       " 'ProductStock': 4800,\n",
       " 'RevenueBillions': 1.5,\n",
       " 'year': 2022,\n",
       " 'Productlist': ['Iphone14', '14Plus', '14Pro', '14ProMax'],\n",
       " 'TaxNumber': 123456789}"
      ]
     },
     "execution_count": 51,
     "metadata": {},
     "output_type": "execute_result"
    }
   ],
   "source": [
    "appexample"
   ]
  },
  {
   "cell_type": "code",
   "execution_count": 52,
   "id": "0d0e42f5",
   "metadata": {},
   "outputs": [
    {
     "data": {
      "text/plain": [
       "{'brand': 'Apple',\n",
       " 'ProductStock': 4800,\n",
       " 'RevenueBillions': 1.5,\n",
       " 'Productlist': ['Iphone14', '14Plus', '14Pro', '14ProMax'],\n",
       " 'TaxNumber': 123456789}"
      ]
     },
     "execution_count": 52,
     "metadata": {},
     "output_type": "execute_result"
    }
   ],
   "source": [
    "appexample.pop(\"year\")\n",
    "appexample"
   ]
  },
  {
   "cell_type": "markdown",
   "id": "caa20dd5",
   "metadata": {},
   "source": [
    "can be done using  <font color=red> del() </font>method as well"
   ]
  },
  {
   "cell_type": "code",
   "execution_count": 53,
   "id": "62d55199",
   "metadata": {},
   "outputs": [],
   "source": [
    "del appexample['brand']"
   ]
  },
  {
   "cell_type": "code",
   "execution_count": 54,
   "id": "db9299eb",
   "metadata": {},
   "outputs": [
    {
     "data": {
      "text/plain": [
       "{'ProductStock': 4800,\n",
       " 'RevenueBillions': 1.5,\n",
       " 'Productlist': ['Iphone14', '14Plus', '14Pro', '14ProMax'],\n",
       " 'TaxNumber': 123456789}"
      ]
     },
     "execution_count": 54,
     "metadata": {},
     "output_type": "execute_result"
    }
   ],
   "source": [
    "appexample"
   ]
  },
  {
   "cell_type": "markdown",
   "id": "2c932df1",
   "metadata": {},
   "source": [
    "## Deleting `complete` dictionary using  <font color=red>del()</font> method"
   ]
  },
  {
   "cell_type": "code",
   "execution_count": 55,
   "id": "680c9fea",
   "metadata": {},
   "outputs": [
    {
     "data": {
      "text/plain": [
       "{'ProductStock': 4800,\n",
       " 'RevenueBillions': 1.5,\n",
       " 'Productlist': ['Iphone14', '14Plus', '14Pro', '14ProMax'],\n",
       " 'TaxNumber': 123456789}"
      ]
     },
     "execution_count": 55,
     "metadata": {},
     "output_type": "execute_result"
    }
   ],
   "source": [
    "appexample\n"
   ]
  },
  {
   "cell_type": "code",
   "execution_count": 56,
   "id": "7c171f2a",
   "metadata": {},
   "outputs": [],
   "source": [
    "del appexample"
   ]
  },
  {
   "cell_type": "code",
   "execution_count": 57,
   "id": "1f092aae",
   "metadata": {},
   "outputs": [
    {
     "ename": "NameError",
     "evalue": "name 'appexample' is not defined",
     "output_type": "error",
     "traceback": [
      "\u001b[0;31m---------------------------------------------------------------------------\u001b[0m",
      "\u001b[0;31mNameError\u001b[0m                                 Traceback (most recent call last)",
      "Cell \u001b[0;32mIn[57], line 1\u001b[0m\n\u001b[0;32m----> 1\u001b[0m \u001b[43mappexample\u001b[49m\n",
      "\u001b[0;31mNameError\u001b[0m: name 'appexample' is not defined"
     ]
    }
   ],
   "source": [
    "appexample"
   ]
  },
  {
   "cell_type": "code",
   "execution_count": null,
   "id": "0fd4c7ff",
   "metadata": {},
   "outputs": [],
   "source": []
  },
  {
   "cell_type": "code",
   "execution_count": null,
   "id": "152bfa7b",
   "metadata": {},
   "outputs": [],
   "source": []
  }
 ],
 "metadata": {
  "kernelspec": {
   "display_name": "Python 3 (ipykernel)",
   "language": "python",
   "name": "python3"
  },
  "language_info": {
   "codemirror_mode": {
    "name": "ipython",
    "version": 3
   },
   "file_extension": ".py",
   "mimetype": "text/x-python",
   "name": "python",
   "nbconvert_exporter": "python",
   "pygments_lexer": "ipython3",
   "version": "3.10.9"
  }
 },
 "nbformat": 4,
 "nbformat_minor": 5
}
