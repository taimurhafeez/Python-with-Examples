{
 "cells": [
  {
   "cell_type": "markdown",
   "id": "94b99112",
   "metadata": {},
   "source": [
    "# Loops in Python: <font color=red>for </font> and <font color=red>while </font> "
   ]
  },
  {
   "cell_type": "markdown",
   "id": "7072f429",
   "metadata": {},
   "source": [
    "## 1. <font color=red>while </font> loop"
   ]
  },
  {
   "cell_type": "markdown",
   "id": "7e47d495",
   "metadata": {},
   "source": [
    "### 1.1 Initialization"
   ]
  },
  {
   "cell_type": "code",
   "execution_count": 1,
   "id": "b28a70ca",
   "metadata": {},
   "outputs": [
    {
     "name": "stdout",
     "output_type": "stream",
     "text": [
      "10\n",
      "11\n",
      "12\n",
      "13\n",
      "14\n",
      "15\n",
      "16\n",
      "17\n",
      "18\n",
      "19\n"
     ]
    }
   ],
   "source": [
    "a=10\n",
    "while a < 20:\n",
    "  print(a)\n",
    "  a += 1"
   ]
  },
  {
   "cell_type": "markdown",
   "id": "997072ad",
   "metadata": {},
   "source": [
    "### 1.2 using <font color=red>break </font> statement"
   ]
  },
  {
   "cell_type": "markdown",
   "id": "14989f1f",
   "metadata": {},
   "source": [
    "`is used to break the loop even when condition is true`"
   ]
  },
  {
   "cell_type": "code",
   "execution_count": 2,
   "id": "83289363",
   "metadata": {},
   "outputs": [
    {
     "name": "stdout",
     "output_type": "stream",
     "text": [
      "10\n",
      "11\n",
      "12\n",
      "13\n",
      "14\n",
      "15\n"
     ]
    }
   ],
   "source": [
    "a=10\n",
    "while a < 20:\n",
    "    if a>15:\n",
    "        break\n",
    "    print(a)\n",
    "\n",
    "    a += 1"
   ]
  },
  {
   "cell_type": "markdown",
   "id": "1e40dc85",
   "metadata": {},
   "source": [
    "### 1.3 using <font color=red>continue </font> statement"
   ]
  },
  {
   "cell_type": "markdown",
   "id": "05a6ab88",
   "metadata": {},
   "source": [
    "`used to skip or terminate only the current iteration of the loop and jump to next iteration`"
   ]
  },
  {
   "cell_type": "code",
   "execution_count": 5,
   "id": "0d3f76c9",
   "metadata": {},
   "outputs": [
    {
     "name": "stdout",
     "output_type": "stream",
     "text": [
      "11\n",
      "12\n",
      "13\n",
      "14\n",
      "16\n",
      "17\n",
      "18\n",
      "19\n",
      "20\n"
     ]
    }
   ],
   "source": [
    "a=10\n",
    "while a < 20:\n",
    "    a += 1\n",
    "    if a==15:\n",
    "        continue\n",
    "    print(a)\n"
   ]
  },
  {
   "cell_type": "markdown",
   "id": "375f44a3",
   "metadata": {},
   "source": [
    "#### `note that 15 is missing`"
   ]
  },
  {
   "cell_type": "markdown",
   "id": "73dde1cf",
   "metadata": {},
   "source": [
    "### 1.4 Mixing <font color=red>while </font> and <font color=red>else </font> statements"
   ]
  },
  {
   "cell_type": "markdown",
   "id": "bda92188",
   "metadata": {},
   "source": [
    "`execute a block of code when condiiton of while is not true`"
   ]
  },
  {
   "cell_type": "code",
   "execution_count": 6,
   "id": "eb4bcc7f",
   "metadata": {},
   "outputs": [
    {
     "name": "stdout",
     "output_type": "stream",
     "text": [
      "11\n",
      "12\n",
      "13\n",
      "14\n",
      "15\n",
      "16\n",
      "17\n",
      "18\n",
      "19\n",
      "20\n",
      "a is now larger than 20\n"
     ]
    }
   ],
   "source": [
    "a=10\n",
    "while a < 20:\n",
    "    a += 1\n",
    "    print(a)\n",
    "else: \n",
    "    print(\"a is now larger than 20\")\n",
    "    "
   ]
  },
  {
   "cell_type": "markdown",
   "id": "0c8d340a",
   "metadata": {},
   "source": []
  }
 ],
 "metadata": {
  "kernelspec": {
   "display_name": "Python 3 (ipykernel)",
   "language": "python",
   "name": "python3"
  },
  "language_info": {
   "codemirror_mode": {
    "name": "ipython",
    "version": 3
   },
   "file_extension": ".py",
   "mimetype": "text/x-python",
   "name": "python",
   "nbconvert_exporter": "python",
   "pygments_lexer": "ipython3",
   "version": "3.10.9"
  }
 },
 "nbformat": 4,
 "nbformat_minor": 5
}
