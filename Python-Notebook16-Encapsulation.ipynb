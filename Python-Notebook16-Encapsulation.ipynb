{
 "cells": [
  {
   "cell_type": "markdown",
   "id": "6f4a8ec4",
   "metadata": {},
   "source": [
    "# Encapsulation"
   ]
  },
  {
   "cell_type": "markdown",
   "id": "20e1ca8f",
   "metadata": {},
   "source": [
    "#### Hiding information of the class from outside of the class."
   ]
  },
  {
   "cell_type": "markdown",
   "id": "b8e65573",
   "metadata": {},
   "source": [
    "## 1. Protected Members of the class"
   ]
  },
  {
   "cell_type": "markdown",
   "id": "42b9da76",
   "metadata": {},
   "source": [
    "### variable name preceeding by an underscore "
   ]
  },
  {
   "cell_type": "code",
   "execution_count": 4,
   "id": "bb6f1edf",
   "metadata": {},
   "outputs": [
    {
     "ename": "AttributeError",
     "evalue": "'AppleProduct' object has no attribute 'name'",
     "output_type": "error",
     "traceback": [
      "\u001b[0;31m---------------------------------------------------------------------------\u001b[0m",
      "\u001b[0;31mAttributeError\u001b[0m                            Traceback (most recent call last)",
      "Cell \u001b[0;32mIn[4], line 15\u001b[0m\n\u001b[1;32m     13\u001b[0m \u001b[38;5;66;03m# Driver code\u001b[39;00m\n\u001b[1;32m     14\u001b[0m prod1 \u001b[38;5;241m=\u001b[39m AppleProduct(\u001b[38;5;124m\"\u001b[39m\u001b[38;5;124mIphone11\u001b[39m\u001b[38;5;124m\"\u001b[39m, \u001b[38;5;241m1111\u001b[39m) \u001b[38;5;66;03m# An Object of Person\u001b[39;00m\n\u001b[0;32m---> 15\u001b[0m \u001b[43mprod1\u001b[49m\u001b[38;5;241;43m.\u001b[39;49m\u001b[43mname\u001b[49m\n",
      "\u001b[0;31mAttributeError\u001b[0m: 'AppleProduct' object has no attribute 'name'"
     ]
    }
   ],
   "source": [
    "class AppleProduct(object):\n",
    "   \n",
    "  # Constructor\n",
    "  def __init__(self, name, serialNumber):\n",
    "    self._name = name\n",
    "    self._serialNumber = serialNumber\n",
    " \n",
    "  # Method to show details\n",
    "  def DisplayBasicInfo(self):\n",
    "    print(self._name, self._serialNumber)\n",
    " \n",
    " \n",
    "# Driver code\n",
    "prod1 = AppleProduct(\"Iphone11\", 1111) # An Object of Person\n",
    "prod1.name\n",
    "# prod1.DisplayBasicInfo()"
   ]
  },
  {
   "cell_type": "markdown",
   "id": "ed7439bb",
   "metadata": {},
   "source": [
    "#### Note the underscore <em> <font color=red> \\_</font> </em> before the name or serial number. It means they are protected variables and should not be access outside of the class. "
   ]
  },
  {
   "cell_type": "markdown",
   "id": "d2db348a",
   "metadata": {},
   "source": [
    "#### Consider below exmaple when we can access those variables using class method."
   ]
  },
  {
   "cell_type": "code",
   "execution_count": 6,
   "id": "65f42cea",
   "metadata": {},
   "outputs": [
    {
     "name": "stdout",
     "output_type": "stream",
     "text": [
      "Iphone11 1111\n"
     ]
    }
   ],
   "source": [
    "class AppleProduct(object):\n",
    "   \n",
    "  # Constructor\n",
    "  def __init__(self, name, serialNumber):\n",
    "    self._name = name\n",
    "    self._serialNumber = serialNumber\n",
    " \n",
    "  # Method to show details\n",
    "  def DisplayBasicInfo(self):\n",
    "    print(self._name, self._serialNumber)\n",
    " \n",
    " \n",
    "# Driver code\n",
    "prod1 = AppleProduct(\"Iphone11\", 1111) # An Object of Person\n",
    "prod1.DisplayBasicInfo()"
   ]
  },
  {
   "cell_type": "markdown",
   "id": "23e2aa32",
   "metadata": {},
   "source": [
    "## 2. Private Members of the class "
   ]
  },
  {
   "cell_type": "markdown",
   "id": "5f3b8b90",
   "metadata": {},
   "source": [
    "### variable name preceeding by two underscores"
   ]
  },
  {
   "cell_type": "markdown",
   "id": "057183b7",
   "metadata": {},
   "source": [
    "#### Private memeber of the parent class should not be accessible to outside of classes, but also not accessible from the any method in child class."
   ]
  },
  {
   "cell_type": "code",
   "execution_count": 11,
   "id": "ec6f40c6",
   "metadata": {},
   "outputs": [
    {
     "ename": "AttributeError",
     "evalue": "'Iphone' object has no attribute '_Iphone__serialNumber'",
     "output_type": "error",
     "traceback": [
      "\u001b[0;31m---------------------------------------------------------------------------\u001b[0m",
      "\u001b[0;31mAttributeError\u001b[0m                            Traceback (most recent call last)",
      "Cell \u001b[0;32mIn[11], line 24\u001b[0m\n\u001b[1;32m     22\u001b[0m \u001b[38;5;66;03m##----------------------------------------------------\u001b[39;00m\n\u001b[1;32m     23\u001b[0m iphon1\u001b[38;5;241m=\u001b[39mIphone(\u001b[38;5;124m\"\u001b[39m\u001b[38;5;124miphone11\u001b[39m\u001b[38;5;124m\"\u001b[39m,\u001b[38;5;241m2222\u001b[39m)\n\u001b[0;32m---> 24\u001b[0m \u001b[43miphon1\u001b[49m\u001b[38;5;241;43m.\u001b[39;49m\u001b[43mDisplayBasicInfo\u001b[49m\u001b[43m(\u001b[49m\u001b[43m)\u001b[49m\n",
      "Cell \u001b[0;32mIn[11], line 20\u001b[0m, in \u001b[0;36mIphone.DisplayBasicInfo\u001b[0;34m(self)\u001b[0m\n\u001b[1;32m     19\u001b[0m \u001b[38;5;28;01mdef\u001b[39;00m \u001b[38;5;21mDisplayBasicInfo\u001b[39m(\u001b[38;5;28mself\u001b[39m):\n\u001b[0;32m---> 20\u001b[0m     \u001b[38;5;28mprint\u001b[39m(\u001b[38;5;28;43mself\u001b[39;49m\u001b[38;5;241;43m.\u001b[39;49m\u001b[43m__serialNumber\u001b[49m)\n",
      "\u001b[0;31mAttributeError\u001b[0m: 'Iphone' object has no attribute '_Iphone__serialNumber'"
     ]
    }
   ],
   "source": [
    "#----------------------------------------------------\n",
    "#---------Parent Class-------------------------------\n",
    "class AppleProduct(object):\n",
    "   \n",
    "  # Constructor\n",
    "    def __init__(self, name, serialNumber):\n",
    "        self.name = name\n",
    "        self.__serialNumber = serialNumber\n",
    " \n",
    "  # Method to show details\n",
    "    def DisplayBasicInfo(self):\n",
    "        print(\"AppleProduct\")\n",
    "#----------------------------------------------------\n",
    "#---------Child Class 1-------------------------------\n",
    "class Iphone(AppleProduct):\n",
    "    def __init__(self, name, serialNumber):\n",
    "        AppleProduct.__init__(self, name, serialNumber)\n",
    "        \n",
    "    def DisplayBasicInfo(self):\n",
    "        print(self.__serialNumber)\n",
    "\n",
    "##----------------------------------------------------\n",
    "iphon1=Iphone(\"iphone11\",2222)\n",
    "iphon1.DisplayBasicInfo()"
   ]
  },
  {
   "cell_type": "markdown",
   "id": "e5f6e8ed",
   "metadata": {},
   "source": [
    "###  <font color=DeepPink> Note: </font>this error is generated because private member, <font color=red> __serialNumber </font> of the parent class is being accessed in the method of the child class.  Lets make it work by calling method of the parent class and let it do the work."
   ]
  },
  {
   "cell_type": "markdown",
   "id": "ee6182d8",
   "metadata": {},
   "source": []
  },
  {
   "cell_type": "code",
   "execution_count": 12,
   "id": "46f2bba5",
   "metadata": {},
   "outputs": [
    {
     "name": "stdout",
     "output_type": "stream",
     "text": [
      "AppleProduct\n",
      "2222\n"
     ]
    }
   ],
   "source": [
    "#----------------------------------------------------\n",
    "#---------Parent Class-------------------------------\n",
    "class AppleProduct(object):\n",
    "   \n",
    "  # Constructor\n",
    "    def __init__(self, name, serialNumber):\n",
    "        self.name = name\n",
    "        self.__serialNumber = serialNumber\n",
    " \n",
    "  # Method to show details\n",
    "    def DisplayBasicInfo(self):\n",
    "        print(\"AppleProduct\")\n",
    "        print(self.__serialNumber)\n",
    "#----------------------------------------------------\n",
    "#---------Child Class 1-------------------------------\n",
    "class Iphone(AppleProduct):\n",
    "    def __init__(self, name, serialNumber):\n",
    "        AppleProduct.__init__(self, name, serialNumber)\n",
    "\n",
    "##----------------------------------------------------\n",
    "iphon1=Iphone(\"iphone11\",2222)\n",
    "iphon1.DisplayBasicInfo()"
   ]
  },
  {
   "cell_type": "markdown",
   "id": "904d2fdb",
   "metadata": {},
   "source": []
  }
 ],
 "metadata": {
  "kernelspec": {
   "display_name": "Python 3 (ipykernel)",
   "language": "python",
   "name": "python3"
  },
  "language_info": {
   "codemirror_mode": {
    "name": "ipython",
    "version": 3
   },
   "file_extension": ".py",
   "mimetype": "text/x-python",
   "name": "python",
   "nbconvert_exporter": "python",
   "pygments_lexer": "ipython3",
   "version": "3.10.9"
  }
 },
 "nbformat": 4,
 "nbformat_minor": 5
}
