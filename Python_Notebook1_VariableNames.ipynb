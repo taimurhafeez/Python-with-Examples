{
  "nbformat": 4,
  "nbformat_minor": 0,
  "metadata": {
    "colab": {
      "provenance": []
    },
    "kernelspec": {
      "name": "python3",
      "display_name": "Python 3"
    },
    "language_info": {
      "name": "python"
    }
  },
  "cells": [
    {
      "cell_type": "markdown",
      "source": [
        "#This Notebook describes how variable names can be initiated in Python:\n",
        "\n",
        "---\n",
        "\n"
      ],
      "metadata": {
        "id": "_hIotBIRhPk0"
      }
    },
    {
      "cell_type": "code",
      "source": [],
      "metadata": {
        "id": "2hIdcXkliUVe"
      },
      "execution_count": null,
      "outputs": []
    },
    {
      "cell_type": "markdown",
      "source": [
        "##Rules: \n",
        "\n",
        "1. Can only start with a letter or an underscore\n",
        "2. A variable does not start with a number\n",
        "3. only contain alpha-numeric characters and underscores (A-z, 0-9, and _ )\n",
        "4. variables are case-sensitive (salary, Salary and SALARY are three different variables)\n",
        "5. Must not be a Python keyword([click here to see](https://www.w3schools.com/python/python_ref_keywords.asp))\n",
        "\n",
        "\n"
      ],
      "metadata": {
        "id": "BOIhawjRhgkR"
      }
    },
    {
      "cell_type": "markdown",
      "source": [
        "Examples: Correct ones:✅"
      ],
      "metadata": {
        "id": "8FHaaJr3jedT"
      }
    },
    {
      "cell_type": "code",
      "source": [
        "var1 = \"Taimur\"\n",
        "var_1 = \"Taimur\"\n",
        "_var_1 = \"Taimur\"\n",
        "vaR1 = \"Taimur\"\n",
        "VAR1 = \"Taimur\"\n",
        "var2 = \"Taimur\""
      ],
      "metadata": {
        "id": "6WM1HUZkhetU"
      },
      "execution_count": 1,
      "outputs": []
    },
    {
      "cell_type": "code",
      "source": [
        "print(var1)\n",
        "print(var_1)\n",
        "print(_var_1)\n",
        "print(vaR1)\n",
        "print(VAR1)\n",
        "print(var2)"
      ],
      "metadata": {
        "colab": {
          "base_uri": "https://localhost:8080/"
        },
        "id": "96hphPZekVRn",
        "outputId": "c725f5d3-ac7d-42a2-9fdb-325527a80b38"
      },
      "execution_count": 2,
      "outputs": [
        {
          "output_type": "stream",
          "name": "stdout",
          "text": [
            "Taimur\n",
            "Taimur\n",
            "Taimur\n",
            "Taimur\n",
            "Taimur\n",
            "Taimur\n"
          ]
        }
      ]
    },
    {
      "cell_type": "markdown",
      "source": [
        "Examples: incorrect:❌"
      ],
      "metadata": {
        "id": "A1rhcEuHk-oc"
      }
    },
    {
      "cell_type": "code",
      "source": [
        "2var = \"Hafeez\"   # Can not start with number\n",
        "my-var = \"Hafeez\" # Can not put any other symbol than underscore in a variable name\n",
        "my var = \"Hafeez\" #Space not allowed between letters of a variable name"
      ],
      "metadata": {
        "colab": {
          "base_uri": "https://localhost:8080/",
          "height": 131
        },
        "id": "ztS2Nvm3kudC",
        "outputId": "7f9da442-4bfd-44b1-a915-1f053e8ecab6"
      },
      "execution_count": 4,
      "outputs": [
        {
          "output_type": "error",
          "ename": "SyntaxError",
          "evalue": "ignored",
          "traceback": [
            "\u001b[0;36m  File \u001b[0;32m\"<ipython-input-4-0656a9f7784f>\"\u001b[0;36m, line \u001b[0;32m1\u001b[0m\n\u001b[0;31m    2var = \"Hafeez\"   # Can not start with number\u001b[0m\n\u001b[0m     ^\u001b[0m\n\u001b[0;31mSyntaxError\u001b[0m\u001b[0;31m:\u001b[0m invalid syntax\n"
          ]
        }
      ]
    }
  ]
}