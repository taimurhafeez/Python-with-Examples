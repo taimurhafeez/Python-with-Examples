{
 "cells": [
  {
   "cell_type": "markdown",
   "metadata": {},
   "source": [
    "# Decorators in Python"
   ]
  },
  {
   "cell_type": "markdown",
   "metadata": {},
   "source": [
    "#### Python decorators are a way to modify the behavior of functions or classes without changing their source code. They provide a convenient and reusable way to add functionality to existing code by wrapping it with additional code.\n",
    "\n",
    "#### In Python, a decorator is a special type of function that takes another function (or class) as input and returns a modified version of that function. \n",
    "1. It allows you to extend or modify the behavior of the original function without directly modifying its code. \n",
    "2. Decorators are often used for tasks such as \n",
    "    1. logging, \n",
    "    2. timing, \n",
    "    3. caching\n",
    "    4. authentication"
   ]
  },
  {
   "cell_type": "markdown",
   "metadata": {},
   "source": [
    "### 1. Simple Example:"
   ]
  },
  {
   "cell_type": "code",
   "execution_count": 2,
   "metadata": {},
   "outputs": [
    {
     "name": "stdout",
     "output_type": "stream",
     "text": [
      "Before the function\n",
      "Hello, world!\n",
      "After the function\n"
     ]
    }
   ],
   "source": [
    "def decorator_function(original_function):\n",
    "    def wrapper_function(*args, **kwargs):\n",
    "        # Code to be executed before the original function\n",
    "        print(\"Before the function\")\n",
    "        \n",
    "        # Call the original function\n",
    "        result = original_function(*args, **kwargs)\n",
    "        \n",
    "        # Code to be executed after the original function\n",
    "        print(\"After the function\")\n",
    "        \n",
    "        # Return the result of the original function\n",
    "#         return result\n",
    "    \n",
    "    # Return the wrapper function\n",
    "    return wrapper_function\n",
    "\n",
    "@decorator_function\n",
    "def hello():\n",
    "    print(\"Hello, world!\")\n",
    "\n",
    "# Call the decorated function\n",
    "hello()\n"
   ]
  },
  {
   "cell_type": "markdown",
   "metadata": {},
   "source": [
    "In this example, the <font color=blue> \"decorator_function\" </font>  is defined as a decorator. It takes the <font color=blue> \"hello\" </font> function as input and returns a modified version of it called <font color=blue> \"wrapper_function\" </font> . The <font color=blue> \"wrapper_function\" </font> adds some additional code before and after calling the original <font color=blue> \"hello\" </font> function."
   ]
  },
  {
   "cell_type": "markdown",
   "metadata": {},
   "source": [
    "### 2. Accepting Arguments in Decorator Functions"
   ]
  },
  {
   "cell_type": "code",
   "execution_count": 15,
   "metadata": {},
   "outputs": [
    {
     "name": "stdout",
     "output_type": "stream",
     "text": [
      "Passed Arguments are: Dublin Galway Cork\n",
      "Cities I visited are Dublin Galway and Cork\n"
     ]
    }
   ],
   "source": [
    "def decorator_with_arguments(function):\n",
    "    def wrapper_accepting_arguments(arg1, arg2, arg3):\n",
    "        print(\"Passed Arguments are: {0} {1} {2}\".format(arg1,arg2,arg3))\n",
    "        function(arg1, arg2,arg3)\n",
    "    return wrapper_accepting_arguments\n",
    "\n",
    "\n",
    "@decorator_with_arguments\n",
    "def cities(city_one, city_two, city_three):\n",
    "    print(\"Cities I visited are {0} {1} and {2}\".format(city_one, city_two, city_three))\n",
    "\n",
    "cities(\"Dublin\", \"Galway\", \"Cork\")"
   ]
  },
  {
   "cell_type": "markdown",
   "metadata": {},
   "source": []
  },
  {
   "cell_type": "markdown",
   "metadata": {},
   "source": []
  },
  {
   "cell_type": "markdown",
   "metadata": {},
   "source": []
  },
  {
   "cell_type": "markdown",
   "metadata": {},
   "source": []
  },
  {
   "cell_type": "markdown",
   "metadata": {},
   "source": []
  },
  {
   "cell_type": "markdown",
   "metadata": {},
   "source": []
  },
  {
   "cell_type": "markdown",
   "metadata": {},
   "source": []
  },
  {
   "cell_type": "markdown",
   "metadata": {},
   "source": []
  },
  {
   "cell_type": "markdown",
   "metadata": {},
   "source": []
  },
  {
   "cell_type": "markdown",
   "metadata": {},
   "source": []
  },
  {
   "cell_type": "markdown",
   "metadata": {},
   "source": []
  },
  {
   "cell_type": "markdown",
   "metadata": {},
   "source": []
  },
  {
   "cell_type": "markdown",
   "metadata": {},
   "source": []
  },
  {
   "cell_type": "markdown",
   "metadata": {},
   "source": []
  },
  {
   "cell_type": "markdown",
   "metadata": {},
   "source": []
  },
  {
   "cell_type": "markdown",
   "metadata": {},
   "source": []
  },
  {
   "cell_type": "markdown",
   "metadata": {},
   "source": []
  },
  {
   "cell_type": "markdown",
   "metadata": {},
   "source": []
  },
  {
   "cell_type": "markdown",
   "metadata": {},
   "source": []
  },
  {
   "cell_type": "markdown",
   "metadata": {},
   "source": []
  },
  {
   "cell_type": "markdown",
   "metadata": {},
   "source": []
  },
  {
   "cell_type": "markdown",
   "metadata": {},
   "source": []
  },
  {
   "cell_type": "markdown",
   "metadata": {},
   "source": []
  },
  {
   "cell_type": "markdown",
   "metadata": {},
   "source": []
  },
  {
   "cell_type": "markdown",
   "metadata": {},
   "source": []
  },
  {
   "cell_type": "markdown",
   "metadata": {},
   "source": []
  },
  {
   "cell_type": "markdown",
   "metadata": {},
   "source": []
  },
  {
   "cell_type": "markdown",
   "metadata": {},
   "source": []
  }
 ],
 "metadata": {
  "kernelspec": {
   "display_name": "Python 3",
   "language": "python",
   "name": "python3"
  },
  "language_info": {
   "codemirror_mode": {
    "name": "ipython",
    "version": 3
   },
   "file_extension": ".py",
   "mimetype": "text/x-python",
   "name": "python",
   "nbconvert_exporter": "python",
   "pygments_lexer": "ipython3",
   "version": "3.8.5"
  }
 },
 "nbformat": 4,
 "nbformat_minor": 4
}
