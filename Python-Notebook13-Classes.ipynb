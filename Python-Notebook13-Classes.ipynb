{
 "cells": [
  {
   "cell_type": "markdown",
   "metadata": {},
   "source": [
    "# Classes in Python"
   ]
  },
  {
   "cell_type": "markdown",
   "metadata": {},
   "source": [
    "Python is an object oriented language."
   ]
  },
  {
   "cell_type": "markdown",
   "metadata": {},
   "source": [
    "## 1. Creating a class using keyword <font color=red>class </font>"
   ]
  },
  {
   "cell_type": "code",
   "execution_count": 3,
   "metadata": {},
   "outputs": [],
   "source": [
    "class MyNumber:\n",
    "  numb = 100"
   ]
  },
  {
   "cell_type": "markdown",
   "metadata": {},
   "source": [
    "### 1.1 Creating an object of the class"
   ]
  },
  {
   "cell_type": "code",
   "execution_count": 4,
   "metadata": {},
   "outputs": [
    {
     "name": "stdout",
     "output_type": "stream",
     "text": [
      "100\n"
     ]
    }
   ],
   "source": [
    "anobj = MyNumber()\n",
    "print(anobj.numb)"
   ]
  },
  {
   "cell_type": "markdown",
   "metadata": {},
   "source": [
    "## 2. The functionality of Constructor <font color=red>\\_\\_init\\_\\_() </font> function"
   ]
  },
  {
   "cell_type": "markdown",
   "metadata": {},
   "source": [
    "#### All classes have a function called <font color=red>__init__() </font> , which is always executed when the class is being initiated."
   ]
  },
  {
   "cell_type": "code",
   "execution_count": 3,
   "metadata": {},
   "outputs": [],
   "source": [
    "class Electronic:\n",
    "  def __init__(self, nameofM, yearofM):\n",
    "    self.Manufacturer = nameofM\n",
    "    self.yearofManufacture = yearofM\n",
    "\n",
    "p1 = Electronic(\"Sony\", 2003)\n"
   ]
  },
  {
   "cell_type": "markdown",
   "metadata": {},
   "source": [
    "## 3. Methods of Class"
   ]
  },
  {
   "cell_type": "code",
   "execution_count": 11,
   "metadata": {},
   "outputs": [
    {
     "name": "stdout",
     "output_type": "stream",
     "text": [
      "Manufacturer is Sony  and year of manufacturing is  2003\n"
     ]
    }
   ],
   "source": [
    "class Electronic:\n",
    "    def __init__(self, nameofM, yearofM):\n",
    "        self.Manufacturer = nameofM\n",
    "        self.yearofManufacture = yearofM\n",
    "    def printfunc(self):\n",
    "        print(\"Manufacturer is \"+ self.Manufacturer, \" and year of manufacturing is \", self.yearofManufacture )\n",
    "\n",
    "p1 = Electronic(\"Sony\", 2003)\n",
    "p1.printfunc()"
   ]
  },
  {
   "cell_type": "markdown",
   "metadata": {},
   "source": [
    "## 4. Empty Class:<font color=Fuchsia> generates an error </font>"
   ]
  },
  {
   "cell_type": "code",
   "execution_count": 1,
   "metadata": {},
   "outputs": [
    {
     "ename": "SyntaxError",
     "evalue": "unexpected EOF while parsing (<ipython-input-1-361e5cce09c4>, line 1)",
     "output_type": "error",
     "traceback": [
      "\u001b[1;36m  File \u001b[1;32m\"<ipython-input-1-361e5cce09c4>\"\u001b[1;36m, line \u001b[1;32m1\u001b[0m\n\u001b[1;33m    class Eletronic:\u001b[0m\n\u001b[1;37m                    ^\u001b[0m\n\u001b[1;31mSyntaxError\u001b[0m\u001b[1;31m:\u001b[0m unexpected EOF while parsing\n"
     ]
    }
   ],
   "source": [
    "class Electronic:"
   ]
  },
  {
   "cell_type": "markdown",
   "metadata": {},
   "source": [
    "## <font color=Green> Solution :  </font>Insert a <font color=red> pass </font> statement"
   ]
  },
  {
   "cell_type": "code",
   "execution_count": 2,
   "metadata": {},
   "outputs": [],
   "source": [
    "class Electronic:\n",
    "    pass"
   ]
  },
  {
   "cell_type": "markdown",
   "metadata": {},
   "source": [
    "## 5. Accessing class attributes from outside of the class methods"
   ]
  },
  {
   "cell_type": "code",
   "execution_count": 4,
   "metadata": {},
   "outputs": [
    {
     "name": "stdout",
     "output_type": "stream",
     "text": [
      "Sony\n",
      "2003\n"
     ]
    }
   ],
   "source": [
    "class Electronic:\n",
    "  def __init__(self, nameofM, yearofM):\n",
    "    self.Manufacturer = nameofM\n",
    "    self.yearofManufacture = yearofM\n",
    "\n",
    "p1 = Electronic(\"Sony\", 2003)\n",
    "\n",
    "print(p1.Manufacturer)\n",
    "print(p1.yearofManufacture)"
   ]
  },
  {
   "cell_type": "markdown",
   "metadata": {},
   "source": [
    "## 6. Desctructor or deleting a class object using  descructor <font color=red>\\_\\_del\\_\\_() </font> and <font color=red>del </font>"
   ]
  },
  {
   "cell_type": "code",
   "execution_count": 5,
   "metadata": {},
   "outputs": [
    {
     "name": "stdout",
     "output_type": "stream",
     "text": [
      "Creating object of the class Electronic\n",
      "Deleting object of the class Electronic\n"
     ]
    }
   ],
   "source": [
    "class Electronic:\n",
    "    def __init__(self, nameofM, yearofM):\n",
    "        print(\"Creating object of the class Electronic\")\n",
    "        self.Manufacturer = nameofM\n",
    "        self.yearofManufacture = yearofM\n",
    "    def __del__(self):\n",
    "        print(\"Deleting object of the class Electronic\")\n",
    "\n",
    "p1 = Electronic(\"Sony\", 2003)\n",
    "del p1"
   ]
  }
 ],
 "metadata": {
  "kernelspec": {
   "display_name": "Python 3",
   "language": "python",
   "name": "python3"
  },
  "language_info": {
   "codemirror_mode": {
    "name": "ipython",
    "version": 3
   },
   "file_extension": ".py",
   "mimetype": "text/x-python",
   "name": "python",
   "nbconvert_exporter": "python",
   "pygments_lexer": "ipython3",
   "version": "3.8.5"
  }
 },
 "nbformat": 4,
 "nbformat_minor": 5
}
