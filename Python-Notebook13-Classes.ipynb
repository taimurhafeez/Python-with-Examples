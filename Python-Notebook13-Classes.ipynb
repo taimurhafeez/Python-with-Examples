{
 "cells": [
  {
   "cell_type": "markdown",
   "id": "ec60005f",
   "metadata": {},
   "source": [
    "# Classes in Python"
   ]
  },
  {
   "cell_type": "markdown",
   "id": "7d3adcf7",
   "metadata": {},
   "source": [
    "Python is an object oriented language."
   ]
  },
  {
   "cell_type": "markdown",
   "id": "6ad9c315",
   "metadata": {},
   "source": [
    "## 1. Creating a class using keyword <font color=red>class </font>"
   ]
  },
  {
   "cell_type": "code",
   "execution_count": 3,
   "id": "ed7986b2",
   "metadata": {},
   "outputs": [],
   "source": [
    "class MyNumber:\n",
    "  numb = 100"
   ]
  },
  {
   "cell_type": "markdown",
   "id": "cd2a22d5",
   "metadata": {},
   "source": [
    "### 1.1 Creating an object of the class"
   ]
  },
  {
   "cell_type": "code",
   "execution_count": 4,
   "id": "2d2f7396",
   "metadata": {},
   "outputs": [
    {
     "name": "stdout",
     "output_type": "stream",
     "text": [
      "100\n"
     ]
    }
   ],
   "source": [
    "anobj = MyNumber()\n",
    "print(anobj.numb)"
   ]
  },
  {
   "cell_type": "markdown",
   "id": "9b82b434",
   "metadata": {},
   "source": [
    "## 2. The functionality of <font color=red>__init__() </font> function"
   ]
  },
  {
   "cell_type": "markdown",
   "id": "75744e31",
   "metadata": {},
   "source": [
    "#### All classes have a function called <font color=red>__init__() </font> , which is always executed when the class is being initiated."
   ]
  },
  {
   "cell_type": "code",
   "execution_count": 6,
   "id": "3e02ae66",
   "metadata": {},
   "outputs": [
    {
     "name": "stdout",
     "output_type": "stream",
     "text": [
      "Sony\n",
      "2003\n"
     ]
    }
   ],
   "source": [
    "class Eletronic:\n",
    "  def __init__(self, nameofM, yearofM):\n",
    "    self.Manufacturer = nameofM\n",
    "    self.yearofManufacture = yearofM\n",
    "\n",
    "p1 = Eletronic(\"Sony\", 2003)\n",
    "\n",
    "print(p1.Manufacturer)\n",
    "print(p1.yearofManufacture)"
   ]
  },
  {
   "cell_type": "markdown",
   "id": "672b34a8",
   "metadata": {},
   "source": []
  },
  {
   "cell_type": "code",
   "execution_count": 11,
   "id": "ec850185",
   "metadata": {},
   "outputs": [
    {
     "name": "stdout",
     "output_type": "stream",
     "text": [
      "Manufacturer is Sony  and year of manufacturing is  2003\n"
     ]
    }
   ],
   "source": [
    "class Eletronic:\n",
    "    def __init__(self, nameofM, yearofM):\n",
    "        self.Manufacturer = nameofM\n",
    "        self.yearofManufacture = yearofM\n",
    "    def printfunc(self):\n",
    "        print(\"Manufacturer is \"+ self.Manufacturer, \" and year of manufacturing is \", self.yearofManufacture )\n",
    "\n",
    "p1 = Eletronic(\"Sony\", 2003)\n",
    "p1.printfunc()"
   ]
  },
  {
   "cell_type": "markdown",
   "id": "96b81e07",
   "metadata": {},
   "source": []
  },
  {
   "cell_type": "markdown",
   "id": "32ee5abf",
   "metadata": {},
   "source": []
  },
  {
   "cell_type": "markdown",
   "id": "79fc0884",
   "metadata": {},
   "source": []
  },
  {
   "cell_type": "markdown",
   "id": "d3f440e9",
   "metadata": {},
   "source": []
  },
  {
   "cell_type": "markdown",
   "id": "b54d7ac4",
   "metadata": {},
   "source": []
  },
  {
   "cell_type": "markdown",
   "id": "01cc0f8d",
   "metadata": {},
   "source": []
  },
  {
   "cell_type": "markdown",
   "id": "3d360a0d",
   "metadata": {},
   "source": []
  },
  {
   "cell_type": "markdown",
   "id": "5a560419",
   "metadata": {},
   "source": []
  }
 ],
 "metadata": {
  "kernelspec": {
   "display_name": "Python 3 (ipykernel)",
   "language": "python",
   "name": "python3"
  },
  "language_info": {
   "codemirror_mode": {
    "name": "ipython",
    "version": 3
   },
   "file_extension": ".py",
   "mimetype": "text/x-python",
   "name": "python",
   "nbconvert_exporter": "python",
   "pygments_lexer": "ipython3",
   "version": "3.10.9"
  }
 },
 "nbformat": 4,
 "nbformat_minor": 5
}
