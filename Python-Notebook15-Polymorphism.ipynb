{
 "cells": [
  {
   "cell_type": "markdown",
   "id": "1ac7a46d",
   "metadata": {},
   "source": [
    "# Polymorphism"
   ]
  },
  {
   "cell_type": "markdown",
   "id": "05798823",
   "metadata": {},
   "source": [
    "#### It means to have many forms. Once function with the same name can be applicable to different objects and classes."
   ]
  },
  {
   "cell_type": "markdown",
   "id": "9bc8492e",
   "metadata": {},
   "source": [
    "## 1. Simple Example : with 1 Parent and 1 Child class"
   ]
  },
  {
   "cell_type": "code",
   "execution_count": 4,
   "id": "8f68ad06",
   "metadata": {},
   "outputs": [
    {
     "name": "stdout",
     "output_type": "stream",
     "text": [
      "Iphone\n"
     ]
    }
   ],
   "source": [
    "#----------------------------------------------------\n",
    "#---------Parent Class-------------------------------\n",
    "class AppleProduct(object):\n",
    "   \n",
    "  # Constructor\n",
    "    def __init__(self, name, serialNumber):\n",
    "        self.name = name\n",
    "        self.serialNumber = serialNumber\n",
    " \n",
    "  # Method to show details\n",
    "    def DisplayBasicInfo(self):\n",
    "        print(\"AppleProduct\")\n",
    "#----------------------------------------------------\n",
    "#---------Child Class 1-------------------------------\n",
    "class Iphone(AppleProduct):\n",
    "    def __init__(self, name, serialNumber):\n",
    "        AppleProduct.__init__(self, name, serialNumber)\n",
    "        \n",
    "    def DisplayBasicInfo(self):\n",
    "        print(\"Iphone\")\n",
    "\n",
    "##----------------------------------------------------\n",
    "iphon1=Iphone(\"iphone11\",2222,128,\"12MP\",123456789)\n",
    "iphon1.DisplayBasicInfo()"
   ]
  },
  {
   "cell_type": "markdown",
   "id": "d3dd85b9",
   "metadata": {},
   "source": [
    "#### Note that <font color=red> DisplayBasicInfo() </font>function present in both parent and child class. However, it is overriden(redefined). Thus when obect of Iphone is created, new definition of the the function was executed. "
   ]
  },
  {
   "cell_type": "markdown",
   "id": "22ff5d87",
   "metadata": {},
   "source": [
    "## 2. Complex Example: with 1 Parent and 3 Child class"
   ]
  },
  {
   "cell_type": "code",
   "execution_count": 6,
   "id": "1e15b3b9",
   "metadata": {},
   "outputs": [
    {
     "name": "stdout",
     "output_type": "stream",
     "text": [
      "an Iphone\n",
      "A MacBook\n",
      "an Ipad\n"
     ]
    }
   ],
   "source": [
    "#----------------------------------------------------\n",
    "#---------Parent Class-------------------------------\n",
    "class AppleProduct(object):\n",
    "   \n",
    "  # Constructor\n",
    "    def __init__(self, name, serialNumber):\n",
    "        self.name = name\n",
    "        self.serialNumber = serialNumber\n",
    " \n",
    "  # Method to show details\n",
    "    def DisplayBasicInfo(self):\n",
    "        print(\"AppleProduct\")\n",
    "#----------------------------------------------------\n",
    "#---------Child Class 1-------------------------------\n",
    "class Iphone(AppleProduct):\n",
    "    def __init__(self, name, serialNumber):\n",
    "        AppleProduct.__init__(self, name, serialNumber)\n",
    "        \n",
    "    def DisplayBasicInfo(self):\n",
    "        print(\"an Iphone\")\n",
    "#----------------------------------------------------\n",
    "#---------Child Class 2-------------------------------\n",
    "class MacBook(AppleProduct):\n",
    "    def __init__(self, name, serialNumber):\n",
    "        AppleProduct.__init__(self, name, serialNumber)\n",
    "        \n",
    "    def DisplayBasicInfo(self):\n",
    "        print(\"A MacBook\")\n",
    "#----------------------------------------------------\n",
    "#---------Child Class 3-------------------------------\n",
    "class Ipad(AppleProduct):\n",
    "    def __init__(self, name, serialNumber):\n",
    "        AppleProduct.__init__(self, name, serialNumber)\n",
    "        \n",
    "    def DisplayBasicInfo(self):\n",
    "        print(\"an Ipad\")\n",
    "##----------------------------------------------------\n",
    "iphon1=Iphone(\"iphone11\",1111)\n",
    "macbook1=MacBook(\"M1\",2222)\n",
    "ipad1=Ipad(\"Pro\",3333)\n",
    "for x in (iphon1, macbook1,ipad1):\n",
    "    x.DisplayBasicInfo()"
   ]
  },
  {
   "cell_type": "markdown",
   "id": "4d836027",
   "metadata": {},
   "source": [
    "#### inside the loop <font color=red> DisplayBasicInfo() </font>function is same. However, for each iteration, its different definition get executed based on which of the class's object is calling this function. "
   ]
  },
  {
   "cell_type": "markdown",
   "id": "17a27662",
   "metadata": {},
   "source": []
  },
  {
   "cell_type": "markdown",
   "id": "00be8970",
   "metadata": {},
   "source": []
  },
  {
   "cell_type": "markdown",
   "id": "263c6b03",
   "metadata": {},
   "source": []
  },
  {
   "cell_type": "markdown",
   "id": "9a65bd28",
   "metadata": {},
   "source": []
  }
 ],
 "metadata": {
  "kernelspec": {
   "display_name": "Python 3 (ipykernel)",
   "language": "python",
   "name": "python3"
  },
  "language_info": {
   "codemirror_mode": {
    "name": "ipython",
    "version": 3
   },
   "file_extension": ".py",
   "mimetype": "text/x-python",
   "name": "python",
   "nbconvert_exporter": "python",
   "pygments_lexer": "ipython3",
   "version": "3.10.9"
  }
 },
 "nbformat": 4,
 "nbformat_minor": 5
}
