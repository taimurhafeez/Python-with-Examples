{
 "cells": [
  {
   "cell_type": "markdown",
   "metadata": {},
   "source": [
    "# Functions in Python with examples"
   ]
  },
  {
   "cell_type": "markdown",
   "metadata": {},
   "source": [
    "#### `Functions are used to do a specific task or run a block of code. They can take parameter and return result as well.`"
   ]
  },
  {
   "cell_type": "markdown",
   "metadata": {},
   "source": [
    "## 1. Creating a function:"
   ]
  },
  {
   "cell_type": "code",
   "execution_count": 1,
   "metadata": {},
   "outputs": [],
   "source": [
    "def simple_function():\n",
    "    print(\" A simple function\")"
   ]
  },
  {
   "cell_type": "markdown",
   "metadata": {},
   "source": [
    "## 2. Calling a function:"
   ]
  },
  {
   "cell_type": "code",
   "execution_count": 2,
   "metadata": {},
   "outputs": [
    {
     "name": "stdout",
     "output_type": "stream",
     "text": [
      " A simple function\n"
     ]
    }
   ],
   "source": [
    "simple_function()"
   ]
  },
  {
   "cell_type": "markdown",
   "metadata": {},
   "source": [
    "## 3. Passing values/arguments to a function:"
   ]
  },
  {
   "cell_type": "markdown",
   "metadata": {},
   "source": [
    "### 3.1 Passing 1 argument:"
   ]
  },
  {
   "cell_type": "code",
   "execution_count": 5,
   "metadata": {},
   "outputs": [
    {
     "name": "stdout",
     "output_type": "stream",
     "text": [
      "Name is Harry\n",
      "Name is Jack\n",
      "Name is Williams\n"
     ]
    }
   ],
   "source": [
    "def Names_function(name_argument):\n",
    "    print(\"Name is \"+name_argument)\n",
    "\n",
    "Names_function(\"Harry\")\n",
    "Names_function(\"Jack\")\n",
    "Names_function(\"Williams\")"
   ]
  },
  {
   "cell_type": "markdown",
   "metadata": {},
   "source": [
    "### 3.2 Passing multiple arguments"
   ]
  },
  {
   "cell_type": "code",
   "execution_count": 8,
   "metadata": {},
   "outputs": [
    {
     "name": "stdout",
     "output_type": "stream",
     "text": [
      "Name is Harry  & Eircode is D01ABCDEF\n",
      "Name is Jack  & Eircode is D02GHIJKL\n",
      "Name is Williams  & Eircode is D03UVWXYZ\n"
     ]
    }
   ],
   "source": [
    "def Data_function(name_argu,eircode_argu):\n",
    "    print(\"Name is \"+name_argu, \" & Eircode is \"+eircode_argu)\n",
    "\n",
    "Data_function(\"Harry\",\"D01ABCDEF\")\n",
    "Data_function(\"Jack\",\"D02GHIJKL\")\n",
    "Data_function(\"Williams\", \"D03UVWXYZ\")"
   ]
  },
  {
   "cell_type": "markdown",
   "metadata": {},
   "source": [
    "### 3.2.1  <font color=Fuchsia>A Problem </font>"
   ]
  },
  {
   "cell_type": "markdown",
   "metadata": {},
   "source": [
    "#### Function gives an error when number of passed arguments are different from the number of arguments are function is expecting. Example: Passing less than expected"
   ]
  },
  {
   "cell_type": "code",
   "execution_count": 9,
   "metadata": {},
   "outputs": [
    {
     "ename": "TypeError",
     "evalue": "Data_function() missing 1 required positional argument: 'eircode_argu'",
     "output_type": "error",
     "traceback": [
      "\u001b[1;31m---------------------------------------------------------------------------\u001b[0m",
      "\u001b[1;31mTypeError\u001b[0m                                 Traceback (most recent call last)",
      "\u001b[1;32m<ipython-input-9-7f32f484489c>\u001b[0m in \u001b[0;36m<module>\u001b[1;34m\u001b[0m\n\u001b[0;32m      2\u001b[0m     \u001b[0mprint\u001b[0m\u001b[1;33m(\u001b[0m\u001b[1;34m\"Name is \"\u001b[0m\u001b[1;33m+\u001b[0m\u001b[0mname_argu\u001b[0m\u001b[1;33m,\u001b[0m \u001b[1;34m\" & Eircode is \"\u001b[0m\u001b[1;33m+\u001b[0m\u001b[0meircode_argu\u001b[0m\u001b[1;33m)\u001b[0m\u001b[1;33m\u001b[0m\u001b[1;33m\u001b[0m\u001b[0m\n\u001b[0;32m      3\u001b[0m \u001b[1;33m\u001b[0m\u001b[0m\n\u001b[1;32m----> 4\u001b[1;33m \u001b[0mData_function\u001b[0m\u001b[1;33m(\u001b[0m\u001b[1;34m\"Harry\"\u001b[0m\u001b[1;33m)\u001b[0m\u001b[1;33m\u001b[0m\u001b[1;33m\u001b[0m\u001b[0m\n\u001b[0m",
      "\u001b[1;31mTypeError\u001b[0m: Data_function() missing 1 required positional argument: 'eircode_argu'"
     ]
    }
   ],
   "source": [
    "def Data_function(name_argu,eircode_argu):\n",
    "    print(\"Name is \"+name_argu, \" & Eircode is \"+eircode_argu)\n",
    "\n",
    "Data_function(\"Harry\")\n"
   ]
  },
  {
   "cell_type": "markdown",
   "metadata": {},
   "source": [
    "#### Example: Passing more than expected"
   ]
  },
  {
   "cell_type": "code",
   "execution_count": 10,
   "metadata": {},
   "outputs": [
    {
     "ename": "TypeError",
     "evalue": "Data_function() takes 2 positional arguments but 3 were given",
     "output_type": "error",
     "traceback": [
      "\u001b[1;31m---------------------------------------------------------------------------\u001b[0m",
      "\u001b[1;31mTypeError\u001b[0m                                 Traceback (most recent call last)",
      "\u001b[1;32m<ipython-input-10-6b2ee05cf007>\u001b[0m in \u001b[0;36m<module>\u001b[1;34m\u001b[0m\n\u001b[0;32m      2\u001b[0m     \u001b[0mprint\u001b[0m\u001b[1;33m(\u001b[0m\u001b[1;34m\"Name is \"\u001b[0m\u001b[1;33m+\u001b[0m\u001b[0mname_argu\u001b[0m\u001b[1;33m,\u001b[0m \u001b[1;34m\" & Eircode is \"\u001b[0m\u001b[1;33m+\u001b[0m\u001b[0meircode_argu\u001b[0m\u001b[1;33m)\u001b[0m\u001b[1;33m\u001b[0m\u001b[1;33m\u001b[0m\u001b[0m\n\u001b[0;32m      3\u001b[0m \u001b[1;33m\u001b[0m\u001b[0m\n\u001b[1;32m----> 4\u001b[1;33m \u001b[0mData_function\u001b[0m\u001b[1;33m(\u001b[0m\u001b[1;34m\"Harry\"\u001b[0m\u001b[1;33m,\u001b[0m\u001b[1;34m\"D01ABCDEF\"\u001b[0m\u001b[1;33m,\u001b[0m \u001b[1;34m\"+353891234567\"\u001b[0m\u001b[1;33m)\u001b[0m\u001b[1;33m\u001b[0m\u001b[1;33m\u001b[0m\u001b[0m\n\u001b[0m",
      "\u001b[1;31mTypeError\u001b[0m: Data_function() takes 2 positional arguments but 3 were given"
     ]
    }
   ],
   "source": [
    "def Data_function(name_argu,eircode_argu):\n",
    "    print(\"Name is \"+name_argu, \" & Eircode is \"+eircode_argu)\n",
    "    \n",
    "Data_function(\"Harry\",\"D01ABCDEF\", \"+353891234567\")"
   ]
  },
  {
   "cell_type": "markdown",
   "metadata": {},
   "source": [
    "### 3.2.2  <font color=Green>Solution </font> Use of Arbitrary Arguments, *args"
   ]
  },
  {
   "cell_type": "markdown",
   "metadata": {},
   "source": [
    "##### This way function receives arguments in the form of tuple and can retrieve arguments accordingly: Example "
   ]
  },
  {
   "cell_type": "code",
   "execution_count": 16,
   "metadata": {},
   "outputs": [
    {
     "name": "stdout",
     "output_type": "stream",
     "text": [
      "Name is Harry  & Eircode is D01ABCDEF & Mobile Number is+353891234567\n"
     ]
    }
   ],
   "source": [
    "def Data_function(*data):\n",
    "    print(\"Name is \"+data[0], \" & Eircode is \"+data[1],\"& Mobile Number is\"+data[2])\n",
    "Data_function(\"Harry\",\"D01ABCDEF\", \"+353891234567\")"
   ]
  },
  {
   "cell_type": "markdown",
   "metadata": {},
   "source": [
    "In the above example order matters while accessing the data from the tuple inside the function."
   ]
  },
  {
   "cell_type": "markdown",
   "metadata": {},
   "source": []
  },
  {
   "cell_type": "markdown",
   "metadata": {},
   "source": [
    "## 3.3 Passing with Keyword Arguments:\n"
   ]
  },
  {
   "cell_type": "markdown",
   "metadata": {},
   "source": [
    "#### Python allows to passed arguemnts as a key=value. In this way benefit is order really does not matter in passing them to the function"
   ]
  },
  {
   "cell_type": "code",
   "execution_count": 22,
   "metadata": {},
   "outputs": [
    {
     "name": "stdout",
     "output_type": "stream",
     "text": [
      "Name is Williams  & Eircode is D03UVWXYZ & Mobile Number is +353891234567\n"
     ]
    }
   ],
   "source": [
    "def Data_function(eircode_argu,mobile_argu,name_argu):\n",
    "    print(\"Name is \"+name_argu, \" & Eircode is \"+eircode_argu, \"& Mobile Number is \"+mobile_argu)\n",
    "\n",
    "Data_function(name_argu=\"Williams\",eircode_argu=\"D03UVWXYZ\" , mobile_argu=\"+353891234567\")"
   ]
  },
  {
   "cell_type": "markdown",
   "metadata": {},
   "source": [
    "## 3.4 <font color=Fuchsia>Problem</font>: What if number of arguments is unknown and order is also unknown?  "
   ]
  },
  {
   "cell_type": "markdown",
   "metadata": {},
   "source": [
    "###  <font color=Green > Solution: </font> Then use  <font color=red>** </font> <font color=Black> Passing Multiple arguments without order Example: </font>"
   ]
  },
  {
   "cell_type": "code",
   "execution_count": 24,
   "metadata": {},
   "outputs": [
    {
     "name": "stdout",
     "output_type": "stream",
     "text": [
      "Name is Williams  & Eircode is D03UVWXYZ & Mobile Number is +353891234567\n"
     ]
    }
   ],
   "source": [
    "def Data_function(**data):\n",
    "    print(\"Name is \"+data['name_argu'], \" & Eircode is \"+data['eircode_argu'], \"& Mobile Number is \"+data['mobile_argu'])\n",
    "Data_function(name_argu=\"Williams\",eircode_argu=\"D03UVWXYZ\" , mobile_argu=\"+353891234567\")"
   ]
  },
  {
   "cell_type": "markdown",
   "metadata": {},
   "source": [
    "## 3.5 Setting a parameter value to a default value"
   ]
  },
  {
   "cell_type": "code",
   "execution_count": 26,
   "metadata": {},
   "outputs": [
    {
     "name": "stdout",
     "output_type": "stream",
     "text": [
      "Name is Harry  & Eircode is D01ABCDEF\n",
      "Name is NoName  & Eircode is Unknown\n",
      "Name is Williams  & Eircode is D03UVWXYZ\n"
     ]
    }
   ],
   "source": [
    "def Data_function(name_argu=\"NoName\",eircode_argu=\"Unknown\"):\n",
    "    print(\"Name is \"+name_argu, \" & Eircode is \"+eircode_argu)\n",
    "\n",
    "Data_function(\"Harry\",\"D01ABCDEF\")\n",
    "Data_function()\n",
    "Data_function(\"Williams\", \"D03UVWXYZ\")"
   ]
  },
  {
   "cell_type": "markdown",
   "metadata": {},
   "source": [
    "## 3.6 A Function preserves data type of the passed function"
   ]
  },
  {
   "cell_type": "markdown",
   "metadata": {},
   "source": [
    "#### Can pass any data type to the function and it will be treated in its original type inside the function"
   ]
  },
  {
   "cell_type": "markdown",
   "metadata": {},
   "source": [
    "### 3.6.1 Passing a list"
   ]
  },
  {
   "cell_type": "code",
   "execution_count": 36,
   "metadata": {},
   "outputs": [
    {
     "name": "stdout",
     "output_type": "stream",
     "text": [
      "Name is Harry  & Eircode is D01ABCDEF\n",
      "<class 'list'>\n"
     ]
    }
   ],
   "source": [
    "def Data_function(data_list):\n",
    "    print(\"Name is \"+data_list[0], \" & Eircode is \"+data_list[1])\n",
    "    print(type(data_list))\n",
    "datasample=[\"Harry\",\"D01ABCDEF\"]\n",
    "Data_function(datasample)\n"
   ]
  },
  {
   "cell_type": "markdown",
   "metadata": {},
   "source": [
    "### 3.6.2 Passing a tuple"
   ]
  },
  {
   "cell_type": "code",
   "execution_count": 37,
   "metadata": {},
   "outputs": [
    {
     "name": "stdout",
     "output_type": "stream",
     "text": [
      "Name is Harry  & Eircode is D01ABCDEF\n",
      "<class 'tuple'>\n"
     ]
    }
   ],
   "source": [
    "def Data_function(data_list):\n",
    "    print(\"Name is \"+data_list[0], \" & Eircode is \"+data_list[1])\n",
    "    print(type(data_list))\n",
    "datasample=(\"Harry\",\"D01ABCDEF\")\n",
    "Data_function(datasample)\n"
   ]
  },
  {
   "cell_type": "markdown",
   "metadata": {},
   "source": [
    "### 3.6.3 Passing a dictionary"
   ]
  },
  {
   "cell_type": "code",
   "execution_count": 38,
   "metadata": {},
   "outputs": [
    {
     "name": "stdout",
     "output_type": "stream",
     "text": [
      "Name is Harry  & Eircode is D01ABCDEF\n",
      "<class 'dict'>\n"
     ]
    }
   ],
   "source": [
    "def Data_function(data_list):\n",
    "    print(\"Name is \"+data_list['name'], \" & Eircode is \"+data_list['eircode'])\n",
    "    print(type(data_list))\n",
    "datasample={\"name\": \"Harry\",\"eircode\": \"D01ABCDEF\"}\n",
    "Data_function(datasample)"
   ]
  },
  {
   "cell_type": "markdown",
   "metadata": {},
   "source": [
    "## 3.7 Returning a value from a function"
   ]
  },
  {
   "cell_type": "markdown",
   "metadata": {},
   "source": [
    "#### We use<font color=red> return </font>keyword to return a value"
   ]
  },
  {
   "cell_type": "code",
   "execution_count": 43,
   "metadata": {},
   "outputs": [
    {
     "name": "stdout",
     "output_type": "stream",
     "text": [
      "30\n"
     ]
    }
   ],
   "source": [
    "def Sum_Function(a, b):\n",
    "    return a+b\n",
    "c_sum=Sum_Function(10,20)\n",
    "print(c_sum)"
   ]
  },
  {
   "cell_type": "markdown",
   "metadata": {},
   "source": [
    "## 3.8 Lambda Functions"
   ]
  },
  {
   "cell_type": "markdown",
   "metadata": {},
   "source": [
    "#### Takes as many arguments as passed, but can have just 1 experssion to."
   ]
  },
  {
   "cell_type": "code",
   "execution_count": 44,
   "metadata": {},
   "outputs": [
    {
     "name": "stdout",
     "output_type": "stream",
     "text": [
      "22\n",
      "33\n"
     ]
    }
   ],
   "source": [
    "def myfunc(n):\n",
    "  return lambda a : a * n\n",
    "\n",
    "mydoubler = myfunc(2)\n",
    "mytripler = myfunc(3)\n",
    "\n",
    "print(mydoubler(11))\n",
    "print(mytripler(11))"
   ]
  },
  {
   "cell_type": "code",
   "execution_count": null,
   "metadata": {},
   "outputs": [],
   "source": []
  }
 ],
 "metadata": {
  "kernelspec": {
   "display_name": "Python 3",
   "language": "python",
   "name": "python3"
  },
  "language_info": {
   "codemirror_mode": {
    "name": "ipython",
    "version": 3
   },
   "file_extension": ".py",
   "mimetype": "text/x-python",
   "name": "python",
   "nbconvert_exporter": "python",
   "pygments_lexer": "ipython3",
   "version": "3.8.5"
  }
 },
 "nbformat": 4,
 "nbformat_minor": 4
}
