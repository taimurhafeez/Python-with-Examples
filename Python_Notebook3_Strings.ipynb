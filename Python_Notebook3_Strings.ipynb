{
 "cells": [
  {
   "cell_type": "markdown",
   "id": "538cf3dd",
   "metadata": {},
   "source": [
    "# Dealing with Strings in Python"
   ]
  },
  {
   "cell_type": "markdown",
   "id": "705646fa",
   "metadata": {},
   "source": [
    "## 1. Initialization: Single Line"
   ]
  },
  {
   "cell_type": "code",
   "execution_count": 1,
   "id": "3b61d1ca",
   "metadata": {},
   "outputs": [
    {
     "name": "stdout",
     "output_type": "stream",
     "text": [
      "Python\n"
     ]
    }
   ],
   "source": [
    "a = \"Python\"\n",
    "print(a)"
   ]
  },
  {
   "cell_type": "markdown",
   "id": "816620b8",
   "metadata": {},
   "source": [
    "## 2.1 Initialization: Multiline with double quotes"
   ]
  },
  {
   "cell_type": "code",
   "execution_count": 2,
   "id": "1268b99c",
   "metadata": {},
   "outputs": [
    {
     "name": "stdout",
     "output_type": "stream",
     "text": [
      "Beautiful is better than ugly.\n",
      "Explicit is better than implicit.\n",
      "Simple is better than complex.\n",
      "Complex is better than complicated.\n"
     ]
    }
   ],
   "source": [
    "b = \"\"\"Beautiful is better than ugly.\n",
    "Explicit is better than implicit.\n",
    "Simple is better than complex.\n",
    "Complex is better than complicated.\"\"\"\n",
    "print(b)"
   ]
  },
  {
   "cell_type": "markdown",
   "id": "1576d39c",
   "metadata": {},
   "source": [
    "## 2.2 Initialization: Multiline with Single quotes"
   ]
  },
  {
   "cell_type": "code",
   "execution_count": 4,
   "id": "a53c7f60",
   "metadata": {},
   "outputs": [
    {
     "name": "stdout",
     "output_type": "stream",
     "text": [
      "If the implementation is hard to explain, it's a bad idea.\n",
      "If the implementation is easy to explain, it may be a good idea.\n"
     ]
    }
   ],
   "source": [
    "c = '''If the implementation is hard to explain, it's a bad idea.\n",
    "If the implementation is easy to explain, it may be a good idea.'''\n",
    "print(c)"
   ]
  },
  {
   "cell_type": "markdown",
   "id": "44e04826",
   "metadata": {},
   "source": [
    "## 3. Treating Strings as Arrays"
   ]
  },
  {
   "cell_type": "code",
   "execution_count": 5,
   "id": "161d9f4f",
   "metadata": {},
   "outputs": [
    {
     "name": "stdout",
     "output_type": "stream",
     "text": [
      "y\n"
     ]
    }
   ],
   "source": [
    "d = \"Python, Programming!\"\n",
    "print(d[1])"
   ]
  },
  {
   "cell_type": "markdown",
   "id": "6e22196a",
   "metadata": {},
   "source": [
    "### Looping through strings"
   ]
  },
  {
   "cell_type": "code",
   "execution_count": 6,
   "id": "35b9138e",
   "metadata": {},
   "outputs": [
    {
     "name": "stdout",
     "output_type": "stream",
     "text": [
      "I\n",
      "r\n",
      "e\n",
      "l\n",
      "a\n",
      "n\n",
      "d\n"
     ]
    }
   ],
   "source": [
    "for i in \"Ireland\":\n",
    "  print(i)"
   ]
  },
  {
   "cell_type": "markdown",
   "id": "5d088380",
   "metadata": {},
   "source": [
    "# 4. Using builtin functions with strings"
   ]
  },
  {
   "cell_type": "markdown",
   "id": "ca848920",
   "metadata": {},
   "source": [
    "### Length of string"
   ]
  },
  {
   "cell_type": "code",
   "execution_count": 7,
   "id": "2dde40c1",
   "metadata": {},
   "outputs": [
    {
     "name": "stdout",
     "output_type": "stream",
     "text": [
      "17\n"
     ]
    }
   ],
   "source": [
    "e = \"Hello, Developer!\"\n",
    "print(len(e))"
   ]
  },
  {
   "cell_type": "markdown",
   "id": "fcc45ef3",
   "metadata": {},
   "source": [
    "### Check if a string is present in an another string"
   ]
  },
  {
   "cell_type": "code",
   "execution_count": 8,
   "id": "363c9779",
   "metadata": {},
   "outputs": [
    {
     "name": "stdout",
     "output_type": "stream",
     "text": [
      "True\n"
     ]
    }
   ],
   "source": [
    "txt = \"Some Programming languages are Python, C, C++, HTML, CSS, JavaScript, MATLAB, C#!\"\n",
    "print(\"Python\" in txt)"
   ]
  },
  {
   "cell_type": "markdown",
   "id": "9f099cb4",
   "metadata": {},
   "source": [
    "## Slicing A String"
   ]
  },
  {
   "cell_type": "code",
   "execution_count": 9,
   "id": "ab6b4347",
   "metadata": {},
   "outputs": [
    {
     "name": "stdout",
     "output_type": "stream",
     "text": [
      "ela\n"
     ]
    }
   ],
   "source": [
    "f = \"Ireland and UK!\"\n",
    "print(f[2:5])"
   ]
  },
  {
   "cell_type": "code",
   "execution_count": 10,
   "id": "45f9be0a",
   "metadata": {},
   "outputs": [
    {
     "name": "stdout",
     "output_type": "stream",
     "text": [
      "Irela\n"
     ]
    }
   ],
   "source": [
    "print(f[:5])"
   ]
  },
  {
   "cell_type": "code",
   "execution_count": 11,
   "id": "689a53a1",
   "metadata": {},
   "outputs": [
    {
     "name": "stdout",
     "output_type": "stream",
     "text": [
      "eland and UK!\n"
     ]
    }
   ],
   "source": [
    "print(f[2:])"
   ]
  },
  {
   "cell_type": "code",
   "execution_count": 12,
   "id": "fd0fe527",
   "metadata": {},
   "outputs": [
    {
     "name": "stdout",
     "output_type": "stream",
     "text": [
      "d U\n"
     ]
    }
   ],
   "source": [
    "print(f[-5:-2])"
   ]
  },
  {
   "cell_type": "code",
   "execution_count": null,
   "id": "48c87cc7",
   "metadata": {},
   "outputs": [],
   "source": []
  }
 ],
 "metadata": {
  "kernelspec": {
   "display_name": "Python 3 (ipykernel)",
   "language": "python",
   "name": "python3"
  },
  "language_info": {
   "codemirror_mode": {
    "name": "ipython",
    "version": 3
   },
   "file_extension": ".py",
   "mimetype": "text/x-python",
   "name": "python",
   "nbconvert_exporter": "python",
   "pygments_lexer": "ipython3",
   "version": "3.10.9"
  }
 },
 "nbformat": 4,
 "nbformat_minor": 5
}
